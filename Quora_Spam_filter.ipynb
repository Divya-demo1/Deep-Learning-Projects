{
  "nbformat": 4,
  "nbformat_minor": 0,
  "metadata": {
    "colab": {
      "name": "Quora_Spam_filter",
      "provenance": [],
      "collapsed_sections": [],
      "authorship_tag": "ABX9TyOiO1EZOERu1+HjBMZ0yklS",
      "include_colab_link": true
    },
    "kernelspec": {
      "name": "python3",
      "display_name": "Python 3"
    }
  },
  "cells": [
    {
      "cell_type": "markdown",
      "metadata": {
        "id": "view-in-github",
        "colab_type": "text"
      },
      "source": [
        "<a href=\"https://colab.research.google.com/github/Divya-demo1/Deep-Learning-Projects/blob/master/Quora_Spam_filter.ipynb\" target=\"_parent\"><img src=\"https://colab.research.google.com/assets/colab-badge.svg\" alt=\"Open In Colab\"/></a>"
      ]
    },
    {
      "cell_type": "code",
      "metadata": {
        "id": "I5cmPG2dlgED",
        "colab_type": "code",
        "outputId": "f50bd0b2-b22a-470c-80d8-81912e7e80cf",
        "colab": {
          "base_uri": "https://localhost:8080/",
          "height": 65
        }
      },
      "source": [
        "import tensorflow as tf\n",
        "tf.test.gpu_device_name()\n",
        "import os"
      ],
      "execution_count": 0,
      "outputs": [
        {
          "output_type": "display_data",
          "data": {
            "text/html": [
              "<p style=\"color: red;\">\n",
              "The default version of TensorFlow in Colab will soon switch to TensorFlow 2.x.<br>\n",
              "We recommend you <a href=\"https://www.tensorflow.org/guide/migrate\" target=\"_blank\">upgrade</a> now \n",
              "or ensure your notebook will continue to use TensorFlow 1.x via the <code>%tensorflow_version 1.x</code> magic:\n",
              "<a href=\"https://colab.research.google.com/notebooks/tensorflow_version.ipynb\" target=\"_blank\">more info</a>.</p>\n"
            ],
            "text/plain": [
              "<IPython.core.display.HTML object>"
            ]
          },
          "metadata": {
            "tags": []
          }
        }
      ]
    },
    {
      "cell_type": "code",
      "metadata": {
        "id": "_pWKKGZCl0lL",
        "colab_type": "code",
        "outputId": "fcc3deca-9ccb-4af5-ebf9-6ad9a6773843",
        "colab": {
          "base_uri": "https://localhost:8080/",
          "height": 401
        }
      },
      "source": [
        "!wget https://www.dropbox.com/sh/kpf9z73woodfssv/AAAw1_JIzpuVvwteJCma0xMla?dl=0"
      ],
      "execution_count": 0,
      "outputs": [
        {
          "output_type": "stream",
          "text": [
            "--2020-02-14 21:25:17--  https://www.dropbox.com/sh/kpf9z73woodfssv/AAAw1_JIzpuVvwteJCma0xMla?dl=0\n",
            "Resolving www.dropbox.com (www.dropbox.com)... 162.125.9.1, 2620:100:601f:1::a27d:901\n",
            "Connecting to www.dropbox.com (www.dropbox.com)|162.125.9.1|:443... connected.\n",
            "HTTP request sent, awaiting response... 301 Moved Permanently\n",
            "Location: /sh/raw/kpf9z73woodfssv/AAAw1_JIzpuVvwteJCma0xMla [following]\n",
            "--2020-02-14 21:25:23--  https://www.dropbox.com/sh/raw/kpf9z73woodfssv/AAAw1_JIzpuVvwteJCma0xMla\n",
            "Reusing existing connection to www.dropbox.com:443.\n",
            "HTTP request sent, awaiting response... 302 Found\n",
            "Location: https://uc113851bc37d8921cd67627f25d.dl.dropboxusercontent.com/zip_download_get/AVhgL24Uxr9w6m7rekKrtLEZLEuUudU01x_w_MKZ6loW-od88pYmkJCcDVzZPYtXV91YpggbKxcJbOu7jO0m6St1hhnKSsDbjbJDW7d4IWueaQ [following]\n",
            "--2020-02-14 21:25:23--  https://uc113851bc37d8921cd67627f25d.dl.dropboxusercontent.com/zip_download_get/AVhgL24Uxr9w6m7rekKrtLEZLEuUudU01x_w_MKZ6loW-od88pYmkJCcDVzZPYtXV91YpggbKxcJbOu7jO0m6St1hhnKSsDbjbJDW7d4IWueaQ\n",
            "Resolving uc113851bc37d8921cd67627f25d.dl.dropboxusercontent.com (uc113851bc37d8921cd67627f25d.dl.dropboxusercontent.com)... 162.125.9.6, 2620:100:601f:6::a27d:906\n",
            "Connecting to uc113851bc37d8921cd67627f25d.dl.dropboxusercontent.com (uc113851bc37d8921cd67627f25d.dl.dropboxusercontent.com)|162.125.9.6|:443... connected.\n",
            "HTTP request sent, awaiting response... 200 OK\n",
            "Length: 124206982 (118M) [application/zip]\n",
            "Saving to: ‘AAAw1_JIzpuVvwteJCma0xMla?dl=0’\n",
            "\n",
            "AAAw1_JIzpuVvwteJCm 100%[===================>] 118.45M  52.3MB/s    in 2.3s    \n",
            "\n",
            "2020-02-14 21:25:27 (52.3 MB/s) - ‘AAAw1_JIzpuVvwteJCma0xMla?dl=0’ saved [124206982/124206982]\n",
            "\n"
          ],
          "name": "stdout"
        }
      ]
    },
    {
      "cell_type": "code",
      "metadata": {
        "id": "8P6mON7ol3Cf",
        "colab_type": "code",
        "outputId": "fa633e5c-bf59-4728-dd8c-3f17e6950d2b",
        "colab": {
          "base_uri": "https://localhost:8080/",
          "height": 126
        }
      },
      "source": [
        "!unzip AAAw1_JIzpuVvwteJCma0xMla?dl=0"
      ],
      "execution_count": 0,
      "outputs": [
        {
          "output_type": "stream",
          "text": [
            "Archive:  AAAw1_JIzpuVvwteJCma0xMla?dl=0\n",
            "warning:  stripped absolute path spec from /\n",
            "mapname:  conversion of  failed\n",
            " extracting: train.csv               \n",
            "\n",
            "1 archive had fatal errors.\n"
          ],
          "name": "stdout"
        }
      ]
    },
    {
      "cell_type": "code",
      "metadata": {
        "id": "nRiWnBOHl5Cb",
        "colab_type": "code",
        "outputId": "597ae10c-354b-4442-d6a6-c59549ae03dd",
        "colab": {
          "base_uri": "https://localhost:8080/",
          "height": 35
        }
      },
      "source": [
        "os.listdir()"
      ],
      "execution_count": 0,
      "outputs": [
        {
          "output_type": "execute_result",
          "data": {
            "text/plain": [
              "['.config', 'AAAw1_JIzpuVvwteJCma0xMla?dl=0', 'train.csv', 'sample_data']"
            ]
          },
          "metadata": {
            "tags": []
          },
          "execution_count": 4
        }
      ]
    },
    {
      "cell_type": "code",
      "metadata": {
        "id": "F5jNRsWpl7Db",
        "colab_type": "code",
        "outputId": "0ed6f373-d7ce-4d0f-9424-6cbfef5e1bd8",
        "colab": {
          "base_uri": "https://localhost:8080/",
          "height": 35
        }
      },
      "source": [
        "import sklearn.datasets as skds\n",
        "from pathlib import Path\n",
        "import pandas as pd\n",
        "import numpy as np\n",
        "from sklearn.model_selection import train_test_split\n",
        "from nltk import word_tokenize\n",
        "from keras.preprocessing.text import Tokenizer\n",
        "from keras.preprocessing import sequence\n",
        "from keras.layers import LSTM, Activation, Dense, Dropout, Input, Embedding\n",
        "from keras.models import Model\n",
        "from keras.layers.normalization import BatchNormalization"
      ],
      "execution_count": 0,
      "outputs": [
        {
          "output_type": "stream",
          "text": [
            "Using TensorFlow backend.\n"
          ],
          "name": "stderr"
        }
      ]
    },
    {
      "cell_type": "code",
      "metadata": {
        "id": "rT-TZVKNl-Tr",
        "colab_type": "code",
        "colab": {}
      },
      "source": [
        "quora = pd.read_csv('train.csv',encoding = 'ISO-8859-1')"
      ],
      "execution_count": 0,
      "outputs": []
    },
    {
      "cell_type": "code",
      "metadata": {
        "id": "fqM1Ez7pmAUF",
        "colab_type": "code",
        "colab": {}
      },
      "source": [
        "quora.drop(['qid'],inplace=True,axis=1)"
      ],
      "execution_count": 0,
      "outputs": []
    },
    {
      "cell_type": "code",
      "metadata": {
        "id": "AxrgOg-AmEpq",
        "colab_type": "code",
        "outputId": "58e9fa4d-e5f0-4185-aa3d-28206389e030",
        "colab": {
          "base_uri": "https://localhost:8080/",
          "height": 198
        }
      },
      "source": [
        "quora.head()"
      ],
      "execution_count": 0,
      "outputs": [
        {
          "output_type": "execute_result",
          "data": {
            "text/html": [
              "<div>\n",
              "<style scoped>\n",
              "    .dataframe tbody tr th:only-of-type {\n",
              "        vertical-align: middle;\n",
              "    }\n",
              "\n",
              "    .dataframe tbody tr th {\n",
              "        vertical-align: top;\n",
              "    }\n",
              "\n",
              "    .dataframe thead th {\n",
              "        text-align: right;\n",
              "    }\n",
              "</style>\n",
              "<table border=\"1\" class=\"dataframe\">\n",
              "  <thead>\n",
              "    <tr style=\"text-align: right;\">\n",
              "      <th></th>\n",
              "      <th>question_text</th>\n",
              "      <th>target</th>\n",
              "    </tr>\n",
              "  </thead>\n",
              "  <tbody>\n",
              "    <tr>\n",
              "      <th>0</th>\n",
              "      <td>How did Quebec nationalists see their province...</td>\n",
              "      <td>0</td>\n",
              "    </tr>\n",
              "    <tr>\n",
              "      <th>1</th>\n",
              "      <td>Do you have an adopted dog, how would you enco...</td>\n",
              "      <td>0</td>\n",
              "    </tr>\n",
              "    <tr>\n",
              "      <th>2</th>\n",
              "      <td>Why does velocity affect time? Does velocity a...</td>\n",
              "      <td>0</td>\n",
              "    </tr>\n",
              "    <tr>\n",
              "      <th>3</th>\n",
              "      <td>How did Otto von Guericke used the Magdeburg h...</td>\n",
              "      <td>0</td>\n",
              "    </tr>\n",
              "    <tr>\n",
              "      <th>4</th>\n",
              "      <td>Can I convert montra helicon D to a mountain b...</td>\n",
              "      <td>0</td>\n",
              "    </tr>\n",
              "  </tbody>\n",
              "</table>\n",
              "</div>"
            ],
            "text/plain": [
              "                                       question_text  target\n",
              "0  How did Quebec nationalists see their province...       0\n",
              "1  Do you have an adopted dog, how would you enco...       0\n",
              "2  Why does velocity affect time? Does velocity a...       0\n",
              "3  How did Otto von Guericke used the Magdeburg h...       0\n",
              "4  Can I convert montra helicon D to a mountain b...       0"
            ]
          },
          "metadata": {
            "tags": []
          },
          "execution_count": 8
        }
      ]
    },
    {
      "cell_type": "code",
      "metadata": {
        "id": "Lws8THeymJUi",
        "colab_type": "code",
        "colab": {}
      },
      "source": [
        "quora_train,quora_test=train_test_split(quora,test_size=0.2,random_state=2)"
      ],
      "execution_count": 0,
      "outputs": []
    },
    {
      "cell_type": "code",
      "metadata": {
        "id": "vfwEGvf6mM5V",
        "colab_type": "code",
        "colab": {}
      },
      "source": [
        "x_train=quora_train['question_text']\n",
        "y_train=quora_train['target']\n",
        "x_test=quora_test['question_text']\n",
        "y_test=quora_test['target']"
      ],
      "execution_count": 0,
      "outputs": []
    },
    {
      "cell_type": "code",
      "metadata": {
        "id": "J92mDL89mOw7",
        "colab_type": "code",
        "outputId": "e5bc5bc6-2126-4552-b4f7-7f37e8944a98",
        "colab": {
          "base_uri": "https://localhost:8080/",
          "height": 72
        }
      },
      "source": [
        "import nltk\n",
        "nltk.download('punkt')"
      ],
      "execution_count": 0,
      "outputs": [
        {
          "output_type": "stream",
          "text": [
            "[nltk_data] Downloading package punkt to /root/nltk_data...\n",
            "[nltk_data]   Unzipping tokenizers/punkt.zip.\n"
          ],
          "name": "stdout"
        },
        {
          "output_type": "execute_result",
          "data": {
            "text/plain": [
              "True"
            ]
          },
          "metadata": {
            "tags": []
          },
          "execution_count": 11
        }
      ]
    },
    {
      "cell_type": "markdown",
      "metadata": {
        "id": "GbP_POKVmYAt",
        "colab_type": "text"
      },
      "source": [
        "Loading data from google drive"
      ]
    },
    {
      "cell_type": "code",
      "metadata": {
        "id": "-3nCZvrMmScn",
        "colab_type": "code",
        "colab": {}
      },
      "source": [
        "!pip install -U -q PyDrive"
      ],
      "execution_count": 0,
      "outputs": []
    },
    {
      "cell_type": "code",
      "metadata": {
        "id": "m7ipBpMcmgiw",
        "colab_type": "code",
        "colab": {}
      },
      "source": [
        "from pydrive.auth import GoogleAuth\n",
        "from pydrive.drive import GoogleDrive\n",
        "from google.colab import auth\n",
        "from oauth2client.client import GoogleCredentials"
      ],
      "execution_count": 0,
      "outputs": []
    },
    {
      "cell_type": "code",
      "metadata": {
        "id": "qsd1ujwkmiQy",
        "colab_type": "code",
        "colab": {}
      },
      "source": [
        "auth.authenticate_user()\n",
        "gauth = GoogleAuth()\n",
        "gauth.credentials = GoogleCredentials.get_application_default()\n",
        "drive = GoogleDrive(gauth)"
      ],
      "execution_count": 0,
      "outputs": []
    },
    {
      "cell_type": "code",
      "metadata": {
        "id": "YIC8BCeKmj2l",
        "colab_type": "code",
        "outputId": "71bce429-6cf5-4e7d-ed80-5a73dddbe8b8",
        "colab": {
          "base_uri": "https://localhost:8080/",
          "height": 1000
        }
      },
      "source": [
        "file_list = drive.ListFile({'q': \"'root' in parents and trashed=false\"}).GetList()\n",
        "for file1 in file_list:\n",
        "  print('title: %s, id: %s' % (file1['title'], file1['id']))"
      ],
      "execution_count": 0,
      "outputs": [
        {
          "output_type": "stream",
          "text": [
            "title: Distracted_Driver_shareeq.ipynb, id: 1DoRwvU8VA7QfvF77ANooVGRldwuRyYbM\n",
            "title: stacksample.zip, id: 12vawrfGZCl3CWFDSV7_6OTzwOKckcvSR\n",
            "title: glove.6B.100d.txt.zip, id: 1UuFu2iM81r-zCTELWKcT4zY2QRTpijCo\n",
            "title: train.csv, id: 1h_QAPLzFre6QVRZ7Bu7DIel6yaArAKNh\n",
            "title: Colab Notebooks, id: 1ATgDoTZH_i3iMLX3Cs56sBZ0rAkqiPbg\n",
            "title: New folder, id: 1Mgd5DdBB1b0kJ02Q7WARnxcD3tpDrR8K\n",
            "title: Python_basics_class_assign.ipynb, id: 0B139lAmq78gnbGZaSElPaFNRRkFiRFd4UXIzTEVzXy1oRk5z\n",
            "title: diabetes.csv, id: 0B139lAmq78gnOC1SQ3NxVkZJcWR3aXltU3IzYk04YXUyR0Rv\n",
            "title: Untitled presentation, id: 18wTMHUG4aHkXQNshqC4QEUFrbh4dfos7dQuopy2ubDo\n",
            "title: icicijulytodecember, id: 1xuo0sljCGw3LlM2-8GVWK-wee7uGFPrBmgPaUUjl60U\n",
            "title: DEEPTHI Resume2, id: 1SR4_8wBTdeuWHCiTHoNt668XBYHOuHlk_RtYc2veR_A\n",
            "title: Untitled document, id: 1jfbe_2mfK7ktxIhckuzCnAJ7z_W0vWfzN7b0xfx7XsU\n",
            "title: summary, id: 1oXCb8J6hUX_JCLeDw58zuiYctsoNVH1Kn1J3NkdtjRs\n",
            "title: Digit Per Minute(DPM) (1), id: 1H8oLNZAKMdZpvmKeOQKSgxP6UUG_4j24JryoG7Yvf8o\n",
            "title: 12day shudule children video, id: 1f8SCzRlgrNnvvL_hbiYG665pZxuUSeDS0eooM5rT_WE\n",
            "title: Abacus Syllabus, id: 1SgaXGrOlk5r9XmpKBZHFdLUvUMajp3XfAceofIEOYP4\n",
            "title: Updated 1 Flowchart for whole ERP, id: 1F9HcJutwOT_pZmNCnmB_s-sm0rwuNwg0c_JTlS2KpQE\n",
            "title: CONTACT INFO MMTPL, id: 1ynBIPr9X5J44EKHwZ7YonubxUtbOj4mGdpywEgH3kf8\n",
            "title: PFO PRESENTATION, id: 1PefrsjOmr5CUlj5s-NElcYdxaFDzxg3rHhg-XFOhggE\n",
            "title: Untitled form, id: 1A9BO6sOItWLEBhT-z6RDJa7iTRNB7vRpmAuvX1S9R10\n",
            "title: divya insurance twowheeler.pdf, id: 0B139lAmq78gnWHFQaWZDdXhKZ1k\n",
            "title: STATEMENT OF PURPOSE, id: 16HoPqxfnJl8TNiWJehO_sWuJtgs_Q34kVu4mm34zQH0\n",
            "title: divya_vatti(825014).docx, id: 13Zsr0bkQKKYTxySIaUaQbJe37r7n-gReg9fMmA8LYRk\n",
            "title: divya_vatti(825014).docx, id: 0B139lAmq78gnZlBPN0xvRGxyQldsMHpYdkQtT05MUUo5Njdj\n",
            "title: mahe, id: 0B139lAmq78gnZnh5TmphV3JWNGM\n",
            "title: 530180.pdf, id: 0B139lAmq78gnRm1waW5VUW5pQnc\n",
            "title: Finalized Telugu Stories.rar, id: 0B139lAmq78gncmhVMVlsVUlRQVNDOXVsQ0Zaa1ZlYUxETUJr\n",
            "title: IMG-20150911-WA0002.jpg, id: 0B139lAmq78gnMlpiYTg4R1NlUEc1ZTk5RjhmdWN3OXZBQW9v\n",
            "title: IMG_20150110_141814509.jpg, id: 0B139lAmq78gna2N2bktsdzZtZEU\n",
            "title: IMG_20150110_141834969.jpg, id: 0B139lAmq78gncnZJdERqZ2dDNGc\n",
            "title: IMG_20150110_141823480.jpg, id: 0B139lAmq78gnQnZydUZrNTVZTTA\n",
            "title: IMG_20150110_141902743.jpg, id: 0B139lAmq78gnMzg4b09EQWpJUm8\n",
            "title: IMG_20150110_141913943.jpg, id: 0B139lAmq78gnUUZZMDRBUkVNZGM\n",
            "title: IMG_20150110_141919652.jpg, id: 0B139lAmq78gnZy1UWlhpUlVndDg\n",
            "title: IMG_20150110_141935994.jpg, id: 0B139lAmq78gnT3dSa2tZY2VYVTA\n",
            "title: IMG_20150110_141949139.jpg, id: 0B139lAmq78gnOThuRS1vdnk3cms\n",
            "title: IMG_20150110_142028117.jpg, id: 0B139lAmq78gnMWdyVElhemZrU0k\n",
            "title: IMG_20150110_142017029.jpg, id: 0B139lAmq78gnNWhvalFRRUptQWc\n",
            "title: IMG_20150110_142219248.jpg, id: 0B139lAmq78gnNkNBd3drbXJGZ00\n",
            "title: IMG_20150110_142237860.jpg, id: 0B139lAmq78gnT1ZUV3BDMHNxVk0\n",
            "title: IMG_20150110_142038337.jpg, id: 0B139lAmq78gnQVIxbnZicUNuUG8\n",
            "title: IMG_20150110_142257875.jpg, id: 0B139lAmq78gnQzkzVEZhRklDNFk\n",
            "title: IMG_20150110_142332999.jpg, id: 0B139lAmq78gnYlduLWFxMFA2SHc\n",
            "title: IMG_20150110_142324429.jpg, id: 0B139lAmq78gneEdZMGJNWGZIUzg\n",
            "title: IMG_20150110_142350937.jpg, id: 0B139lAmq78gnaVJZSjJkZ1BJQTA\n",
            "title: IMG_20150110_142429436.jpg, id: 0B139lAmq78gnZlRqQzJsYklqTFE\n",
            "title: IMG_20150110_142542949.jpg, id: 0B139lAmq78gnMVNpSzRLa1o5ZDg\n",
            "title: IMG_20150110_143209650.jpg, id: 0B139lAmq78gnWWVZemJ3allfTzA\n",
            "title: IMG_20150110_142813359.jpg, id: 0B139lAmq78gncTd4Qm82QWxtMEE\n",
            "title: IMG_20150110_143038475.jpg, id: 0B139lAmq78gndVlTS3dsY2tjWm8\n",
            "title: IMG_20150110_143225698.jpg, id: 0B139lAmq78gnenA1NmgtS3JHQlE\n",
            "title: IMG_20150110_143230575.jpg, id: 0B139lAmq78gnQlpVRmxyUlFUdm8\n",
            "title: IMG_20150110_143302288.jpg, id: 0B139lAmq78gnZm82TTdNWGEtLUE\n",
            "title: IMG_20150110_143312346.jpg, id: 0B139lAmq78gneHlFRjNZdEEtdm8\n",
            "title: IMG_20150110_143317027.jpg, id: 0B139lAmq78gnOTRBX3MzZFdwSU0\n",
            "title: IMG_20150110_143420491.jpg, id: 0B139lAmq78gnSl9kc1c1dU9iNUk\n",
            "title: IMG_20150110_143435085.jpg, id: 0B139lAmq78gnU00xaEVyRWFSV0E\n",
            "title: IMG_20150110_143455898.jpg, id: 0B139lAmq78gnY0h4SWdxVWlkTlE\n",
            "title: IMG_20150110_143645459.jpg, id: 0B139lAmq78gnSW1LcTNkbmpLVEE\n",
            "title: IMG_20150110_143813474.jpg, id: 0B139lAmq78gnckFqaXBrM292QUU\n",
            "title: IMG_20150110_143815057.jpg, id: 0B139lAmq78gnT0tsem8wSTlId2s\n",
            "title: IMG_20150110_143819798.jpg, id: 0B139lAmq78gnMUlXTElkMTJ0Zkk\n",
            "title: IMG_20150110_143821835.jpg, id: 0B139lAmq78gnSFVSTjk0ZzJ1dW8\n",
            "title: IMG_20150110_143836160.jpg, id: 0B139lAmq78gndHNGeElqVVlGb3M\n",
            "title: IMG_20150110_143839838.jpg, id: 0B139lAmq78gnOUFlalM4X2h5SW8\n",
            "title: IMG_20150110_151009407.jpg, id: 0B139lAmq78gnaF80LXR4eFNSdnc\n",
            "title: IMG_20150110_151039997.jpg, id: 0B139lAmq78gnbTJfQWZGNVRpLVU\n",
            "title: IMG_20150110_151048281.jpg, id: 0B139lAmq78gnVER3blR3cmFaU2c\n",
            "title: IMG_20150110_151508287.jpg, id: 0B139lAmq78gnNlB5ZDhLSWl0U0k\n",
            "title: IMG_20150110_151659461_HDR.jpg, id: 0B139lAmq78gneVl6d25NNFFtOWs\n",
            "title: IMG_20150110_153756952.jpg, id: 0B139lAmq78gnRXBzUTZEc2pUS1U\n",
            "title: IMG_20150110_154304774_HDR.jpg, id: 0B139lAmq78gnZzItcFVOWVNQdTg\n",
            "title: IMG_20150110_154243690.jpg, id: 0B139lAmq78gnd0Y0Y2hadzJzV1k\n",
            "title: IMG_20150110_154947185.jpg, id: 0B139lAmq78gnNHh6YVdyUE1BQk0\n",
            "title: IMG_20150110_155005090.jpg, id: 0B139lAmq78gnSEM1X0RodnY3bXc\n",
            "title: IMG_20150110_154541528.jpg, id: 0B139lAmq78gncWZMb2tLT0tJYnM\n",
            "title: IMG_20150110_155031426.jpg, id: 0B139lAmq78gnZjg1Ukd5VFl6Qms\n",
            "title: IMG_20150110_155034261.jpg, id: 0B139lAmq78gnNk9jejhLLVBONFU\n",
            "title: IMG_20150110_155714860.jpg, id: 0B139lAmq78gnOEdHMk9TVVlwbjQ\n",
            "title: IMG_20150110_155722026.jpg, id: 0B139lAmq78gnR1I3ZWRGM3BoYmM\n",
            "title: IMG_20150110_155800683.jpg, id: 0B139lAmq78gnMmZWMmZ4MFlOZlk\n",
            "title: IMG_20150110_160302691.jpg, id: 0B139lAmq78gnQ0xRQ0pZdGlyQTg\n",
            "title: IMG_20150110_170353816_HDR.jpg, id: 0B139lAmq78gnVEo2LUdtaDJnZ3c\n",
            "title: IMG_20150110_170412806.jpg, id: 0B139lAmq78gnQm9KQVI2a1FERlE\n",
            "title: IMG_20150110_170931775_HDR.jpg, id: 0B139lAmq78gnSWUyLVJYZFd4SFU\n",
            "title: IMG_20150110_170551780.jpg, id: 0B139lAmq78gnUWNTVnJMUXlha00\n",
            "title: IMG_20150110_170854799.jpg, id: 0B139lAmq78gnMDFHSVNqQTZkeFE\n",
            "title: IMG_20150110_171100669_HDR.jpg, id: 0B139lAmq78gnTXFLUURpdUhkQjg\n",
            "title: IMG_20150110_170938226_HDR.jpg, id: 0B139lAmq78gnQnRVcmprck1VNmc\n",
            "title: IMG_20150110_171239734_HDR.jpg, id: 0B139lAmq78gnX0dWdDVad0ZmMEE\n",
            "title: IMG_20150110_171255624.jpg, id: 0B139lAmq78gnY0R5cmFiWW1Tcmc\n",
            "title: IMG_20150110_171458275_HDR.jpg, id: 0B139lAmq78gnVmxGZDJxRHp5TUk\n",
            "title: IMG_20150110_173949946_HDR.jpg, id: 0B139lAmq78gnb1pWWUtBaDRTLVE\n",
            "title: IMG_20150110_174053374_HDR.jpg, id: 0B139lAmq78gnOE9PVmx2WXpPaG8\n",
            "title: IMG_20150110_175034219_HDR.jpg, id: 0B139lAmq78gnSXBSLURBbWo0MlU\n",
            "title: IMG_20150110_175155473_HDR.jpg, id: 0B139lAmq78gnc2oyS1J6VmUxS2M\n",
            "title: IMG_20150110_175106512_HDR.jpg, id: 0B139lAmq78gnbHM3eVlCNEpCR0U\n",
            "title: IMG_20150110_175220582_HDR.jpg, id: 0B139lAmq78gnenQ5aVQweDBPd00\n",
            "title: IMG_20150110_175842306_HDR.jpg, id: 0B139lAmq78gnMm55Wi0zclQtWm8\n",
            "title: IMG_20150110_175450466_HDR.jpg, id: 0B139lAmq78gnQ2hudVRkRTFyTjA\n",
            "title: IMG_20150110_175848304_HDR.jpg, id: 0B139lAmq78gnazF1NUdKd1BmZm8\n",
            "title: IMG_20150110_180339065_HDR.jpg, id: 0B139lAmq78gnLWYwelIwZE9pS1E\n",
            "title: IMG_20150110_180359717_HDR.jpg, id: 0B139lAmq78gnVm4wZ2s3aTlkb1U\n",
            "title: IMG_20150110_180419318_HDR.jpg, id: 0B139lAmq78gnZTJTS20zWndoQUE\n",
            "title: IMG_20150110_180538326_HDR.jpg, id: 0B139lAmq78gnTzN5dnRJUlZoLVE\n",
            "title: IMG_20150110_180546387.jpg, id: 0B139lAmq78gnd2JiQTNqTURWT3M\n",
            "title: IMG_20150110_180557017.jpg, id: 0B139lAmq78gnVzRsLUlvdjBnbnM\n",
            "title: IMG_20150110_180701322_HDR.jpg, id: 0B139lAmq78gncjJhSFdiYVh5aUE\n",
            "title: IMG_20150110_180721054_HDR.jpg, id: 0B139lAmq78gnSXhIMTBkOU9TUUU\n",
            "title: IMG_20150110_180748816_HDR.jpg, id: 0B139lAmq78gneHo0eHFTODNnejQ\n",
            "title: IMG_20150110_180805775_HDR.jpg, id: 0B139lAmq78gndDZrYjNNNmIxNkE\n",
            "title: IMG_20150110_180812910_HDR.jpg, id: 0B139lAmq78gnb1pxc2NYb2laMjA\n",
            "title: IMG_20150110_180829242_HDR.jpg, id: 0B139lAmq78gnYzg0MTNaRVB2NVU\n",
            "title: IMG_20150110_180909019_HDR.jpg, id: 0B139lAmq78gnNjE3VG1nT00zRU0\n",
            "title: IMG_20150110_180920861_HDR.jpg, id: 0B139lAmq78gnWklHb29MOUdFVE0\n",
            "title: IMG_20150110_180927976_HDR.jpg, id: 0B139lAmq78gnalJYS2FFWnBYRU0\n",
            "title: IMG_20150110_181001521_HDR.jpg, id: 0B139lAmq78gnSHVYY0Y5NjY1ZlU\n",
            "title: IMG_20150110_181008530_HDR.jpg, id: 0B139lAmq78gnNjJ5Si16dUFObWM\n",
            "title: IMG_20150314_145208609.jpg, id: 0B139lAmq78gnMGZNVUcwdmM1V0U\n",
            "title: IMG_20150209_102146.jpg, id: 0B139lAmq78gnODFTNjNkVHVxSWs\n",
            "title: IMG_20150329_200748668_HDR.jpg, id: 0B139lAmq78gnOFJlRGxYc1lLdW8\n",
            "title: IMG_20150209_102125142.jpg, id: 0B139lAmq78gnMnRtQzVrLUUtWUk\n",
            "title: IMG_20150308_163735204.jpg, id: 0B139lAmq78gnN1g3dzRBai1nSlk\n",
            "title: IMG_20150401_125657940.jpg, id: 0B139lAmq78gnSVlKXzQ3MzBxNWM\n",
            "title: IMG_20150209_102221.jpg, id: 0B139lAmq78gnUDZ4eU1CeTBRclE\n",
            "title: IMG_20150209_101914.jpg, id: 0B139lAmq78gnZHFuNDh4OEVvVG8\n",
            "title: IMG_20150209_102030.jpg, id: 0B139lAmq78gnVjdzc195SDd3ejA\n",
            "title: IMG_20150209_102227399.jpg, id: 0B139lAmq78gnR0l2eVFlQWhLOWs\n",
            "title: IMG_20150314_145206218.jpg, id: 0B139lAmq78gnOExKY3RDR2dpRXM\n",
            "title: IMG_20150209_102209366.jpg, id: 0B139lAmq78gndlpqRE1vdDd1M2c\n",
            "title: IMG_20150209_102020930.jpg, id: 0B139lAmq78gnMllvZzlldkhvck0\n",
            "title: IMG_20150314_145157290.jpg, id: 0B139lAmq78gnam94QmViYmNjWFU\n",
            "title: IMG_20150329_200745150_HDR.jpg, id: 0B139lAmq78gnTnBMOHY4NFhqd0k\n",
            "title: pregnancytest.docx, id: 0B139lAmq78gnb0ctbUtZWkhzYzQ\n",
            "title: pregnancytest, id: 0B139lAmq78gnc2ppejlrRVlGOEk\n",
            "title: images (1).jpg, id: 0B139lAmq78gnQkMyZDV0dU01bVVGQUVIWnl6ZHpRa1RPODU0\n",
            "title: TCS_Offer_CT20100228351.pdf, id: 0B139lAmq78gnWXhDQ3JYM0ZFdTA\n",
            "title: CT20100228351-joningletter2.pdf, id: 0B139lAmq78gna21vd3lTOFRNWEU\n",
            "title: Citibank Account Statement-20141101 TO 20141201.pdf, id: 0B139lAmq78gnN3dteDh5QXBSVzI2cmlLdmwzclVhamd5Z2M4\n",
            "title: CITIBANK REWARDS PLATINUM CARD.pdf, id: 0B139lAmq78gnMzFpbG9fS2Y1R3ZoWWFVcUMyTHNiVUpNbGxR\n",
            "title: Citibank Account Statement-20141101 TO 20141117.pdf, id: 0B139lAmq78gnSVdkb2F5NDU1SjFJWWl1SjVNZlYzREYtblpV\n",
            "title: Savings_Stmt_17111421381.xls, id: 0B139lAmq78gnbjE5OVpFbVlsTWhOVVVuNDN2YnN0eE1MVThV\n",
            "title: medbillvenkat.pdf, id: 0B139lAmq78gnQXp1d1JlQlhJbnc\n",
            "title: div resum.pdf, id: 0B139lAmq78gnV2hMQjVOdV9ldkVGUGRSSFhhOFFpSGhQRi1F\n"
          ],
          "name": "stdout"
        }
      ]
    },
    {
      "cell_type": "code",
      "metadata": {
        "id": "93Tz6I6Umtws",
        "colab_type": "code",
        "colab": {}
      },
      "source": [
        "downloaded = drive.CreateFile({'id': '1UuFu2iM81r-zCTELWKcT4zY2QRTpijCo'})\n",
        "downloaded.GetContentFile('glove6b100dtxt.zip')"
      ],
      "execution_count": 0,
      "outputs": []
    },
    {
      "cell_type": "code",
      "metadata": {
        "id": "4sM9PchNmw7n",
        "colab_type": "code",
        "outputId": "b92085b3-bf74-4881-853e-6d89574a4f59",
        "colab": {
          "base_uri": "https://localhost:8080/",
          "height": 54
        }
      },
      "source": [
        "!unzip glove6b100dtxt.zip"
      ],
      "execution_count": 0,
      "outputs": [
        {
          "output_type": "stream",
          "text": [
            "Archive:  glove6b100dtxt.zip\n",
            "  inflating: glove.6B.100d.txt       \n"
          ],
          "name": "stdout"
        }
      ]
    },
    {
      "cell_type": "code",
      "metadata": {
        "id": "ZzezMe4Tmzpm",
        "colab_type": "code",
        "colab": {}
      },
      "source": [
        "from __future__ import print_function\n",
        "\n",
        "import os\n",
        "import sys\n",
        "import numpy as np\n",
        "from keras.preprocessing.text import Tokenizer\n",
        "from keras.preprocessing.sequence import pad_sequences\n",
        "from keras.utils import to_categorical\n",
        "from keras.layers import Dense, Input, GlobalMaxPooling1D\n",
        "from keras.layers import Conv1D, MaxPooling1D, Embedding\n",
        "from keras.models import Model\n",
        "from keras.initializers import Constant\n",
        "from keras.layers import Conv2D\n",
        "from keras.layers import MaxPooling2D\n",
        "\n",
        " \n",
        "BASE_DIR = ''\n",
        "GLOVE_DIR = os.path.join(BASE_DIR, 'glove.6B')"
      ],
      "execution_count": 0,
      "outputs": []
    },
    {
      "cell_type": "code",
      "metadata": {
        "id": "aryR-xcAm3e-",
        "colab_type": "code",
        "outputId": "e11490ad-7590-4a75-8177-30d7ada72ef0",
        "colab": {
          "base_uri": "https://localhost:8080/",
          "height": 35
        }
      },
      "source": [
        "embeddings_index = {}\n",
        "f = open('glove.6B.100d.txt',encoding='utf-8')\n",
        "for line in f:\n",
        "    values = line.split()\n",
        "    word = values[0]\n",
        "    coefs = np.asarray(values[1:], dtype='float32')\n",
        "    embeddings_index[word] = coefs\n",
        "f.close()\n",
        "\n",
        "print('Found %s word vectors.' % len(embeddings_index))"
      ],
      "execution_count": 0,
      "outputs": [
        {
          "output_type": "stream",
          "text": [
            "Found 400000 word vectors.\n"
          ],
          "name": "stdout"
        }
      ]
    },
    {
      "cell_type": "code",
      "metadata": {
        "id": "2ngCxh6gm9L6",
        "colab_type": "code",
        "colab": {}
      },
      "source": [
        "#Tokenize each question_text sentence\n",
        "sent_lens=[]\n",
        "for sent in quora_train['question_text']:\n",
        "    sent_lens.append(len(word_tokenize(sent)))"
      ],
      "execution_count": 0,
      "outputs": []
    },
    {
      "cell_type": "code",
      "metadata": {
        "id": "KCH7zhrUnBzT",
        "colab_type": "code",
        "outputId": "64559dc1-ba1c-41a5-deab-7cf288c04391",
        "colab": {
          "base_uri": "https://localhost:8080/",
          "height": 35
        }
      },
      "source": [
        "max(sent_lens)"
      ],
      "execution_count": 0,
      "outputs": [
        {
          "output_type": "execute_result",
          "data": {
            "text/plain": [
              "412"
            ]
          },
          "metadata": {
            "tags": []
          },
          "execution_count": 21
        }
      ]
    },
    {
      "cell_type": "code",
      "metadata": {
        "id": "zvwi5ESenRS2",
        "colab_type": "code",
        "colab": {}
      },
      "source": [
        "max_quant_len=int(np.quantile(sent_lens,0.95))"
      ],
      "execution_count": 0,
      "outputs": []
    },
    {
      "cell_type": "code",
      "metadata": {
        "id": "kN5peeu9nanu",
        "colab_type": "code",
        "outputId": "61d497f8-cc3d-4a1d-f965-425d4c631d51",
        "colab": {
          "base_uri": "https://localhost:8080/",
          "height": 35
        }
      },
      "source": [
        "max_quant_len"
      ],
      "execution_count": 0,
      "outputs": [
        {
          "output_type": "execute_result",
          "data": {
            "text/plain": [
              "30"
            ]
          },
          "metadata": {
            "tags": []
          },
          "execution_count": 23
        }
      ]
    },
    {
      "cell_type": "code",
      "metadata": {
        "id": "luqVO3msnccN",
        "colab_type": "code",
        "colab": {}
      },
      "source": [
        "max_len =max_quant_len\n",
        "tok = Tokenizer(char_level=False,split=' ')\n",
        "tok.fit_on_texts(x_train)\n",
        "sequences_train = tok.texts_to_sequences(x_train)"
      ],
      "execution_count": 0,
      "outputs": []
    },
    {
      "cell_type": "code",
      "metadata": {
        "id": "XrtTLOP0nhq4",
        "colab_type": "code",
        "outputId": "2b7f0617-97c0-4528-9362-3fd9b88b7094",
        "colab": {
          "base_uri": "https://localhost:8080/",
          "height": 35
        }
      },
      "source": [
        "vocab_len=len(tok.index_word.keys())\n",
        "vocab_len"
      ],
      "execution_count": 0,
      "outputs": [
        {
          "output_type": "execute_result",
          "data": {
            "text/plain": [
              "196220"
            ]
          },
          "metadata": {
            "tags": []
          },
          "execution_count": 25
        }
      ]
    },
    {
      "cell_type": "code",
      "metadata": {
        "id": "AEoDFhgOnzxZ",
        "colab_type": "code",
        "outputId": "e07c17a9-a1aa-41b8-c54d-28e1d9b74751",
        "colab": {
          "base_uri": "https://localhost:8080/",
          "height": 145
        }
      },
      "source": [
        "sequences_matrix_train = sequence.pad_sequences(sequences_train,maxlen=max_quant_len)\n",
        "sequences_matrix_train"
      ],
      "execution_count": 0,
      "outputs": [
        {
          "output_type": "execute_result",
          "data": {
            "text/plain": [
              "array([[   0,    0,    0, ..., 5916,   44,  242],\n",
              "       [   0,    0,    0, ...,    5, 1602, 3144],\n",
              "       [   0,    0,    0, ...,  136,   18,  296],\n",
              "       ...,\n",
              "       [   0,    0,    0, ...,  392,    7,  678],\n",
              "       [   0,    0,    0, ...,    6,   28,  560],\n",
              "       [   0,    0,    0, ..., 5472,    6,  142]], dtype=int32)"
            ]
          },
          "metadata": {
            "tags": []
          },
          "execution_count": 26
        }
      ]
    },
    {
      "cell_type": "code",
      "metadata": {
        "id": "YPBNTguJn5YS",
        "colab_type": "code",
        "outputId": "0f94bcc5-6dd1-4355-8daf-d08bb73b0e94",
        "colab": {
          "base_uri": "https://localhost:8080/",
          "height": 35
        }
      },
      "source": [
        "word_index=tok.word_index\n",
        "len(word_index)"
      ],
      "execution_count": 0,
      "outputs": [
        {
          "output_type": "execute_result",
          "data": {
            "text/plain": [
              "196220"
            ]
          },
          "metadata": {
            "tags": []
          },
          "execution_count": 27
        }
      ]
    },
    {
      "cell_type": "code",
      "metadata": {
        "id": "Sb-H7tLS2Cme",
        "colab_type": "code",
        "outputId": "43d376a9-1256-40a3-d770-998e32bc42e5",
        "colab": {
          "base_uri": "https://localhost:8080/",
          "height": 1000
        }
      },
      "source": [
        "word_index"
      ],
      "execution_count": 0,
      "outputs": [
        {
          "output_type": "execute_result",
          "data": {
            "text/plain": [
              "{'the': 1,\n",
              " 'what': 2,\n",
              " 'is': 3,\n",
              " 'a': 4,\n",
              " 'to': 5,\n",
              " 'in': 6,\n",
              " 'of': 7,\n",
              " 'i': 8,\n",
              " 'how': 9,\n",
              " 'and': 10,\n",
              " 'do': 11,\n",
              " 'are': 12,\n",
              " 'for': 13,\n",
              " 'you': 14,\n",
              " 'can': 15,\n",
              " 'why': 16,\n",
              " 'it': 17,\n",
              " 'my': 18,\n",
              " 'that': 19,\n",
              " 'if': 20,\n",
              " 'with': 21,\n",
              " 'or': 22,\n",
              " 'on': 23,\n",
              " 'have': 24,\n",
              " 'be': 25,\n",
              " 'does': 26,\n",
              " 'from': 27,\n",
              " 'your': 28,\n",
              " 'an': 29,\n",
              " 'which': 30,\n",
              " 'should': 31,\n",
              " 'when': 32,\n",
              " 'get': 33,\n",
              " 'best': 34,\n",
              " 'would': 35,\n",
              " 'as': 36,\n",
              " 'people': 37,\n",
              " 'some': 38,\n",
              " 'there': 39,\n",
              " 'who': 40,\n",
              " 'will': 41,\n",
              " 'like': 42,\n",
              " 'not': 43,\n",
              " 'at': 44,\n",
              " 'about': 45,\n",
              " 'they': 46,\n",
              " 'by': 47,\n",
              " 'did': 48,\n",
              " 'was': 49,\n",
              " 'any': 50,\n",
              " 'we': 51,\n",
              " 'so': 52,\n",
              " 'good': 53,\n",
              " 'me': 54,\n",
              " 'their': 55,\n",
              " 'one': 56,\n",
              " 'india': 57,\n",
              " 'has': 58,\n",
              " 'after': 59,\n",
              " 'most': 60,\n",
              " 'where': 61,\n",
              " 'this': 62,\n",
              " 'make': 63,\n",
              " 'but': 64,\n",
              " 'more': 65,\n",
              " 'all': 66,\n",
              " 'think': 67,\n",
              " 'many': 68,\n",
              " 'between': 69,\n",
              " 'time': 70,\n",
              " 'than': 71,\n",
              " 'much': 72,\n",
              " 'other': 73,\n",
              " 'life': 74,\n",
              " 'someone': 75,\n",
              " 'use': 76,\n",
              " 'he': 77,\n",
              " 'out': 78,\n",
              " 'way': 79,\n",
              " 'am': 80,\n",
              " 'know': 81,\n",
              " 'up': 82,\n",
              " 'being': 83,\n",
              " 'work': 84,\n",
              " 'want': 85,\n",
              " 'take': 86,\n",
              " 'them': 87,\n",
              " 'were': 88,\n",
              " 'ever': 89,\n",
              " 'his': 90,\n",
              " 'find': 91,\n",
              " 'us': 92,\n",
              " 'become': 93,\n",
              " 'world': 94,\n",
              " 'without': 95,\n",
              " 'just': 96,\n",
              " 'could': 97,\n",
              " 'person': 98,\n",
              " 'feel': 99,\n",
              " 'into': 100,\n",
              " \"don't\": 101,\n",
              " 'better': 102,\n",
              " 'year': 103,\n",
              " 'quora': 104,\n",
              " 'no': 105,\n",
              " 'go': 106,\n",
              " 'new': 107,\n",
              " '2': 108,\n",
              " 'possible': 109,\n",
              " 'job': 110,\n",
              " 'only': 111,\n",
              " 'her': 112,\n",
              " 'been': 113,\n",
              " 'years': 114,\n",
              " 'mean': 115,\n",
              " 'indian': 116,\n",
              " \"what's\": 117,\n",
              " \"i'm\": 118,\n",
              " 'used': 119,\n",
              " 'need': 120,\n",
              " 'start': 121,\n",
              " 'first': 122,\n",
              " 'trump': 123,\n",
              " 'women': 124,\n",
              " 'difference': 125,\n",
              " 'had': 126,\n",
              " '1': 127,\n",
              " 'money': 128,\n",
              " 'still': 129,\n",
              " 'different': 130,\n",
              " 'while': 131,\n",
              " 'really': 132,\n",
              " 'long': 133,\n",
              " 'school': 134,\n",
              " 'old': 135,\n",
              " 'over': 136,\n",
              " 'country': 137,\n",
              " 'learn': 138,\n",
              " 'our': 139,\n",
              " 'business': 140,\n",
              " 'same': 141,\n",
              " 'love': 142,\n",
              " 'now': 143,\n",
              " 'before': 144,\n",
              " 'things': 145,\n",
              " 'even': 146,\n",
              " 'college': 147,\n",
              " 'engineering': 148,\n",
              " 'during': 149,\n",
              " 'help': 150,\n",
              " 'give': 151,\n",
              " 'online': 152,\n",
              " 'day': 153,\n",
              " 'she': 154,\n",
              " 'its': 155,\n",
              " 'say': 156,\n",
              " '3': 157,\n",
              " 'because': 158,\n",
              " 'see': 159,\n",
              " 'using': 160,\n",
              " 'bad': 161,\n",
              " 'book': 162,\n",
              " 'university': 163,\n",
              " 'back': 164,\n",
              " 'men': 165,\n",
              " 'change': 166,\n",
              " 'then': 167,\n",
              " 'company': 168,\n",
              " 'sex': 169,\n",
              " 'him': 170,\n",
              " 'high': 171,\n",
              " 'made': 172,\n",
              " 'anyone': 173,\n",
              " 'stop': 174,\n",
              " 'having': 175,\n",
              " '2017': 176,\n",
              " 'getting': 177,\n",
              " 'right': 178,\n",
              " 'live': 179,\n",
              " 'student': 180,\n",
              " 'girl': 181,\n",
              " 'buy': 182,\n",
              " 'two': 183,\n",
              " 'thing': 184,\n",
              " '5': 185,\n",
              " 'own': 186,\n",
              " 'study': 187,\n",
              " 'happen': 188,\n",
              " 'science': 189,\n",
              " 'name': 190,\n",
              " 'going': 191,\n",
              " 'white': 192,\n",
              " 'countries': 193,\n",
              " 'something': 194,\n",
              " 'free': 195,\n",
              " 'through': 196,\n",
              " 'real': 197,\n",
              " 'english': 198,\n",
              " 'look': 199,\n",
              " 'black': 200,\n",
              " 'china': 201,\n",
              " 'american': 202,\n",
              " 'true': 203,\n",
              " 'experience': 204,\n",
              " 'such': 205,\n",
              " \"can't\": 206,\n",
              " 'come': 207,\n",
              " 'doing': 208,\n",
              " 'water': 209,\n",
              " 'questions': 210,\n",
              " 'system': 211,\n",
              " '2018': 212,\n",
              " 'number': 213,\n",
              " '10': 214,\n",
              " 'class': 215,\n",
              " 'against': 216,\n",
              " 'important': 217,\n",
              " 'government': 218,\n",
              " 'students': 219,\n",
              " 'very': 220,\n",
              " 'language': 221,\n",
              " 'off': 222,\n",
              " 'books': 223,\n",
              " 'ways': 224,\n",
              " 'state': 225,\n",
              " 'tell': 226,\n",
              " 'computer': 227,\n",
              " 'man': 228,\n",
              " 'war': 229,\n",
              " '4': 230,\n",
              " 'keep': 231,\n",
              " 'always': 232,\n",
              " 'social': 233,\n",
              " 'never': 234,\n",
              " 'human': 235,\n",
              " 'girls': 236,\n",
              " 'every': 237,\n",
              " 'friend': 238,\n",
              " 'data': 239,\n",
              " 'career': 240,\n",
              " 'too': 241,\n",
              " 'home': 242,\n",
              " 'chinese': 243,\n",
              " 'non': 244,\n",
              " 'place': 245,\n",
              " 'relationship': 246,\n",
              " 'under': 247,\n",
              " \"doesn't\": 248,\n",
              " 'software': 249,\n",
              " 'write': 250,\n",
              " 'future': 251,\n",
              " 'working': 252,\n",
              " 'friends': 253,\n",
              " 'done': 254,\n",
              " 'x': 255,\n",
              " 'exam': 256,\n",
              " 'phone': 257,\n",
              " 'learning': 258,\n",
              " 'account': 259,\n",
              " 'app': 260,\n",
              " 'website': 261,\n",
              " 'america': 262,\n",
              " 'guy': 263,\n",
              " \"it's\": 264,\n",
              " 'another': 265,\n",
              " 'family': 266,\n",
              " 's': 267,\n",
              " 'parents': 268,\n",
              " 'food': 269,\n",
              " 'top': 270,\n",
              " 'around': 271,\n",
              " 'got': 272,\n",
              " 'car': 273,\n",
              " 'age': 274,\n",
              " 'believe': 275,\n",
              " 'happens': 276,\n",
              " 'states': 277,\n",
              " 'usa': 278,\n",
              " 'days': 279,\n",
              " 'course': 280,\n",
              " 'read': 281,\n",
              " 'kind': 282,\n",
              " 'big': 283,\n",
              " 'wrong': 284,\n",
              " 'google': 285,\n",
              " 'able': 286,\n",
              " 'power': 287,\n",
              " 'hard': 288,\n",
              " 'americans': 289,\n",
              " 'each': 290,\n",
              " 'companies': 291,\n",
              " 'movie': 292,\n",
              " 'major': 293,\n",
              " 'down': 294,\n",
              " 'also': 295,\n",
              " 'body': 296,\n",
              " 'show': 297,\n",
              " 'makes': 298,\n",
              " 'b': 299,\n",
              " 'hate': 300,\n",
              " 'history': 301,\n",
              " 'muslims': 302,\n",
              " 'ask': 303,\n",
              " 'last': 304,\n",
              " 'question': 305,\n",
              " 'well': 306,\n",
              " 'living': 307,\n",
              " 'canada': 308,\n",
              " 'president': 309,\n",
              " 'cost': 310,\n",
              " 'pay': 311,\n",
              " 'less': 312,\n",
              " 'woman': 313,\n",
              " 'both': 314,\n",
              " 'degree': 315,\n",
              " 'normal': 316,\n",
              " 'test': 317,\n",
              " 'jee': 318,\n",
              " 'considered': 319,\n",
              " 'type': 320,\n",
              " 'create': 321,\n",
              " 'since': 322,\n",
              " 'media': 323,\n",
              " 'part': 324,\n",
              " 'god': 325,\n",
              " 'instead': 326,\n",
              " 'facebook': 327,\n",
              " 'end': 328,\n",
              " 'play': 329,\n",
              " 'examples': 330,\n",
              " 'child': 331,\n",
              " 'u': 332,\n",
              " 'prepare': 333,\n",
              " 'great': 334,\n",
              " 'children': 335,\n",
              " 'answer': 336,\n",
              " 'rank': 337,\n",
              " 'law': 338,\n",
              " 'actually': 339,\n",
              " 'process': 340,\n",
              " 'united': 341,\n",
              " 'common': 342,\n",
              " 'given': 343,\n",
              " 'anything': 344,\n",
              " 'market': 345,\n",
              " 'house': 346,\n",
              " 'marks': 347,\n",
              " 'choose': 348,\n",
              " 'eat': 349,\n",
              " 'tv': 350,\n",
              " 'myself': 351,\n",
              " 'jobs': 352,\n",
              " 'win': 353,\n",
              " 'medical': 354,\n",
              " 'music': 355,\n",
              " 'today': 356,\n",
              " 'next': 357,\n",
              " 'average': 358,\n",
              " 'call': 359,\n",
              " 'making': 360,\n",
              " 'earth': 361,\n",
              " 'game': 362,\n",
              " 'known': 363,\n",
              " 'cause': 364,\n",
              " 'writing': 365,\n",
              " 'small': 366,\n",
              " 'current': 367,\n",
              " 'indians': 368,\n",
              " 'service': 369,\n",
              " 'order': 370,\n",
              " 'score': 371,\n",
              " 'video': 372,\n",
              " 'north': 373,\n",
              " '6': 374,\n",
              " 'apply': 375,\n",
              " 'reason': 376,\n",
              " 'affect': 377,\n",
              " 'join': 378,\n",
              " 'deal': 379,\n",
              " 'support': 380,\n",
              " 'math': 381,\n",
              " 'e': 382,\n",
              " 'main': 383,\n",
              " 'self': 384,\n",
              " 'bank': 385,\n",
              " 'causes': 386,\n",
              " 'uk': 387,\n",
              " 'worth': 388,\n",
              " 'left': 389,\n",
              " 'called': 390,\n",
              " 'c': 391,\n",
              " 'form': 392,\n",
              " 'point': 393,\n",
              " 'these': 394,\n",
              " 'south': 395,\n",
              " 'tips': 396,\n",
              " 'put': 397,\n",
              " 'energy': 398,\n",
              " 'word': 399,\n",
              " 'technology': 400,\n",
              " 'public': 401,\n",
              " 'delhi': 402,\n",
              " 'face': 403,\n",
              " 'muslim': 404,\n",
              " 'months': 405,\n",
              " 'open': 406,\n",
              " 'engineer': 407,\n",
              " 'travel': 408,\n",
              " 'based': 409,\n",
              " 'pakistan': 410,\n",
              " 'card': 411,\n",
              " 'marketing': 412,\n",
              " 'hair': 413,\n",
              " 'others': 414,\n",
              " 'research': 415,\n",
              " 'improve': 416,\n",
              " 'etc': 417,\n",
              " 'light': 418,\n",
              " 'level': 419,\n",
              " 'value': 420,\n",
              " 'move': 421,\n",
              " 'management': 422,\n",
              " 'iit': 423,\n",
              " 'those': 424,\n",
              " 'full': 425,\n",
              " 'lot': 426,\n",
              " 'development': 427,\n",
              " 'taking': 428,\n",
              " 'control': 429,\n",
              " 'design': 430,\n",
              " 'times': 431,\n",
              " 'date': 432,\n",
              " 'meaning': 433,\n",
              " 'problem': 434,\n",
              " 'health': 435,\n",
              " '12': 436,\n",
              " 'series': 437,\n",
              " 'education': 438,\n",
              " 'term': 439,\n",
              " 'single': 440,\n",
              " 'safe': 441,\n",
              " 'program': 442,\n",
              " 'away': 443,\n",
              " 'found': 444,\n",
              " 'idea': 445,\n",
              " 'political': 446,\n",
              " 'care': 447,\n",
              " 'city': 448,\n",
              " 'stay': 449,\n",
              " 'general': 450,\n",
              " 'air': 451,\n",
              " 'weight': 452,\n",
              " 'donald': 453,\n",
              " 'international': 454,\n",
              " 'space': 455,\n",
              " 'physics': 456,\n",
              " 'low': 457,\n",
              " 'enough': 458,\n",
              " 'required': 459,\n",
              " 'android': 460,\n",
              " 'understand': 461,\n",
              " 'movies': 462,\n",
              " 'field': 463,\n",
              " 'month': 464,\n",
              " 'increase': 465,\n",
              " 'talk': 466,\n",
              " 'youtube': 467,\n",
              " 'mba': 468,\n",
              " \"isn't\": 469,\n",
              " 'popular': 470,\n",
              " 'salary': 471,\n",
              " 'happened': 472,\n",
              " 'build': 473,\n",
              " '7': 474,\n",
              " 'available': 475,\n",
              " 'favorite': 476,\n",
              " 'problems': 477,\n",
              " 'legal': 478,\n",
              " 'programming': 479,\n",
              " 'everyone': 480,\n",
              " 'humans': 481,\n",
              " 'group': 482,\n",
              " 'behind': 483,\n",
              " 'mobile': 484,\n",
              " 'often': 485,\n",
              " 'mind': 486,\n",
              " 'post': 487,\n",
              " 'again': 488,\n",
              " 'short': 489,\n",
              " 'military': 490,\n",
              " 'said': 491,\n",
              " 'death': 492,\n",
              " 'benefits': 493,\n",
              " 'dog': 494,\n",
              " 'looking': 495,\n",
              " 'civil': 496,\n",
              " 'female': 497,\n",
              " 'story': 498,\n",
              " \"didn't\": 499,\n",
              " 'boyfriend': 500,\n",
              " 'kill': 501,\n",
              " 'society': 502,\n",
              " 'successful': 503,\n",
              " 'run': 504,\n",
              " 'leave': 505,\n",
              " 'wear': 506,\n",
              " 'girlfriend': 507,\n",
              " 'due': 508,\n",
              " 'culture': 509,\n",
              " 'purpose': 510,\n",
              " '0': 511,\n",
              " 'russia': 512,\n",
              " 'europe': 513,\n",
              " 'mass': 514,\n",
              " 'visa': 515,\n",
              " 'side': 516,\n",
              " 'related': 517,\n",
              " 'web': 518,\n",
              " 'religion': 519,\n",
              " 'ex': 520,\n",
              " 'germany': 521,\n",
              " 'role': 522,\n",
              " 'per': 523,\n",
              " 'similar': 524,\n",
              " 'watch': 525,\n",
              " 'party': 526,\n",
              " 'information': 527,\n",
              " 'past': 528,\n",
              " 'kids': 529,\n",
              " 'admission': 530,\n",
              " 'starting': 531,\n",
              " 'male': 532,\n",
              " 'die': 533,\n",
              " 'mechanical': 534,\n",
              " 'internet': 535,\n",
              " 'skills': 536,\n",
              " 'speed': 537,\n",
              " 'else': 538,\n",
              " '100': 539,\n",
              " 'consider': 540,\n",
              " 'british': 541,\n",
              " 'product': 542,\n",
              " 'few': 543,\n",
              " 'force': 544,\n",
              " 'guys': 545,\n",
              " 'try': 546,\n",
              " 'tech': 547,\n",
              " 'training': 548,\n",
              " '8': 549,\n",
              " 'colleges': 550,\n",
              " 'answers': 551,\n",
              " 'everything': 552,\n",
              " 'studying': 553,\n",
              " 'industry': 554,\n",
              " 'opinion': 555,\n",
              " 'modern': 556,\n",
              " 'pain': 557,\n",
              " 'seen': 558,\n",
              " 'site': 559,\n",
              " 'cat': 560,\n",
              " 'lose': 561,\n",
              " 'sell': 562,\n",
              " 'advice': 563,\n",
              " 'gay': 564,\n",
              " 'yourself': 565,\n",
              " 'though': 566,\n",
              " 'exist': 567,\n",
              " 'fight': 568,\n",
              " 'types': 569,\n",
              " 'tax': 570,\n",
              " 'share': 571,\n",
              " 'blood': 572,\n",
              " 'machine': 573,\n",
              " 'effective': 574,\n",
              " 'services': 575,\n",
              " 'second': 576,\n",
              " '20': 577,\n",
              " 'allowed': 578,\n",
              " 'personal': 579,\n",
              " 'police': 580,\n",
              " 'rate': 581,\n",
              " 'foreign': 582,\n",
              " 'earn': 583,\n",
              " 'code': 584,\n",
              " 'games': 585,\n",
              " 'korea': 586,\n",
              " 'interview': 587,\n",
              " 'application': 588,\n",
              " 'paper': 589,\n",
              " 'let': 590,\n",
              " 'case': 591,\n",
              " 'project': 592,\n",
              " 'themselves': 593,\n",
              " 'terms': 594,\n",
              " 'australia': 595,\n",
              " 'famous': 596,\n",
              " 'courses': 597,\n",
              " 'marriage': 598,\n",
              " 'period': 599,\n",
              " 'area': 600,\n",
              " 'set': 601,\n",
              " 'brain': 602,\n",
              " 'difficult': 603,\n",
              " 'rather': 604,\n",
              " 'night': 605,\n",
              " 'private': 606,\n",
              " 'already': 607,\n",
              " 'bangalore': 608,\n",
              " 'daily': 609,\n",
              " 'compared': 610,\n",
              " 'mumbai': 611,\n",
              " 'effect': 612,\n",
              " 'act': 613,\n",
              " 'price': 614,\n",
              " 'trying': 615,\n",
              " 'explain': 616,\n",
              " 'm': 617,\n",
              " 'middle': 618,\n",
              " \"i've\": 619,\n",
              " 'liberals': 620,\n",
              " 'amount': 621,\n",
              " 'easy': 622,\n",
              " 'words': 623,\n",
              " 'team': 624,\n",
              " 'song': 625,\n",
              " 'universe': 626,\n",
              " 'says': 627,\n",
              " 'skin': 628,\n",
              " 'neet': 629,\n",
              " 'plan': 630,\n",
              " 'hours': 631,\n",
              " 'places': 632,\n",
              " 'treat': 633,\n",
              " 'japanese': 634,\n",
              " 'example': 635,\n",
              " 'useful': 636,\n",
              " 'towards': 637,\n",
              " 'news': 638,\n",
              " 'follow': 639,\n",
              " 'wants': 640,\n",
              " 'worst': 641,\n",
              " 'mother': 642,\n",
              " 'knowledge': 643,\n",
              " 'quality': 644,\n",
              " 'asked': 645,\n",
              " 'married': 646,\n",
              " 'amazon': 647,\n",
              " 'sleep': 648,\n",
              " 'once': 649,\n",
              " 'biggest': 650,\n",
              " 'seem': 651,\n",
              " 'yet': 652,\n",
              " 'young': 653,\n",
              " 'correct': 654,\n",
              " 'theory': 655,\n",
              " 'iphone': 656,\n",
              " 'function': 657,\n",
              " 'products': 658,\n",
              " 'prevent': 659,\n",
              " 'turn': 660,\n",
              " 'visit': 661,\n",
              " 'describe': 662,\n",
              " 'national': 663,\n",
              " 'list': 664,\n",
              " '15': 665,\n",
              " 'may': 666,\n",
              " 'happy': 667,\n",
              " 'institute': 668,\n",
              " 'cse': 669,\n",
              " 'taken': 670,\n",
              " 'coaching': 671,\n",
              " 'started': 672,\n",
              " 'model': 673,\n",
              " 'rid': 674,\n",
              " 'vs': 675,\n",
              " 'star': 676,\n",
              " 'ideas': 677,\n",
              " 'islam': 678,\n",
              " 'lost': 679,\n",
              " '12th': 680,\n",
              " 'offer': 681,\n",
              " 'effects': 682,\n",
              " 'gun': 683,\n",
              " 'download': 684,\n",
              " '9': 685,\n",
              " 'three': 686,\n",
              " 'wife': 687,\n",
              " 'invest': 688,\n",
              " 'differences': 689,\n",
              " 'animals': 690,\n",
              " 'oil': 691,\n",
              " 'view': 692,\n",
              " 'far': 693,\n",
              " 'stock': 694,\n",
              " 'matter': 695,\n",
              " 'line': 696,\n",
              " 'iâ\\x80\\x99m': 697,\n",
              " 'okay': 698,\n",
              " 'red': 699,\n",
              " 'week': 700,\n",
              " 'instagram': 701,\n",
              " 'avoid': 702,\n",
              " 'little': 703,\n",
              " '11': 704,\n",
              " 'fast': 705,\n",
              " 'natural': 706,\n",
              " 'develop': 707,\n",
              " 'expect': 708,\n",
              " 'security': 709,\n",
              " 'character': 710,\n",
              " \"you've\": 711,\n",
              " 'thinking': 712,\n",
              " 'negative': 713,\n",
              " 'japan': 714,\n",
              " 'necessary': 715,\n",
              " 'eating': 716,\n",
              " 'israel': 717,\n",
              " 'exams': 718,\n",
              " 'provide': 719,\n",
              " 'com': 720,\n",
              " 'chemical': 721,\n",
              " 'jews': 722,\n",
              " 'sound': 723,\n",
              " 'chance': 724,\n",
              " 'board': 725,\n",
              " 'sexual': 726,\n",
              " 'grow': 727,\n",
              " 'reasons': 728,\n",
              " 'likely': 729,\n",
              " 'remove': 730,\n",
              " 'must': 731,\n",
              " 'depression': 732,\n",
              " 'add': 733,\n",
              " 'anti': 734,\n",
              " 'facts': 735,\n",
              " 'chances': 736,\n",
              " 'present': 737,\n",
              " 'professional': 738,\n",
              " 'size': 739,\n",
              " 'laptop': 740,\n",
              " 'reading': 741,\n",
              " 'dream': 742,\n",
              " 'accept': 743,\n",
              " 'large': 744,\n",
              " 'modi': 745,\n",
              " 'option': 746,\n",
              " 'cut': 747,\n",
              " 'prefer': 748,\n",
              " 'send': 749,\n",
              " 'within': 750,\n",
              " 'feeling': 751,\n",
              " 'army': 752,\n",
              " 'apps': 753,\n",
              " 'office': 754,\n",
              " 'schools': 755,\n",
              " 'speak': 756,\n",
              " 'moving': 757,\n",
              " 'n': 758,\n",
              " 'graduate': 759,\n",
              " 'told': 760,\n",
              " 'becoming': 761,\n",
              " 'digital': 762,\n",
              " 'investment': 763,\n",
              " 'fall': 764,\n",
              " 'together': 765,\n",
              " 'financial': 766,\n",
              " 'european': 767,\n",
              " 'least': 768,\n",
              " 'interested': 769,\n",
              " 'phd': 770,\n",
              " 'boy': 771,\n",
              " 'preparation': 772,\n",
              " 'father': 773,\n",
              " 'fake': 774,\n",
              " 'illegal': 775,\n",
              " 'poor': 776,\n",
              " 'paid': 777,\n",
              " 'outside': 778,\n",
              " 'interesting': 779,\n",
              " 'nothing': 780,\n",
              " 'mental': 781,\n",
              " 'percentage': 782,\n",
              " 'break': 783,\n",
              " 'close': 784,\n",
              " 'western': 785,\n",
              " 'donâ\\x80\\x99t': 786,\n",
              " 'options': 787,\n",
              " 'head': 788,\n",
              " 'higher': 789,\n",
              " 'thoughts': 790,\n",
              " 'impact': 791,\n",
              " 'basic': 792,\n",
              " 'dating': 793,\n",
              " 'drive': 794,\n",
              " 'allow': 795,\n",
              " 'nuclear': 796,\n",
              " 'here': 797,\n",
              " 'subject': 798,\n",
              " 'income': 799,\n",
              " '30': 800,\n",
              " 'population': 801,\n",
              " 'contact': 802,\n",
              " 'store': 803,\n",
              " 'style': 804,\n",
              " 'uses': 805,\n",
              " 'studies': 806,\n",
              " '50': 807,\n",
              " 'chemistry': 808,\n",
              " \"you're\": 809,\n",
              " 'french': 810,\n",
              " 'born': 811,\n",
              " 'languages': 812,\n",
              " 'husband': 813,\n",
              " 'rights': 814,\n",
              " '18': 815,\n",
              " \"aren't\": 816,\n",
              " 'gain': 817,\n",
              " 'might': 818,\n",
              " 'universities': 819,\n",
              " 'java': 820,\n",
              " 'upsc': 821,\n",
              " 'physical': 822,\n",
              " 'land': 823,\n",
              " 'special': 824,\n",
              " 'comes': 825,\n",
              " 'hand': 826,\n",
              " 'mains': 827,\n",
              " 'changed': 828,\n",
              " 'interest': 829,\n",
              " 'solution': 830,\n",
              " 'check': 831,\n",
              " 'email': 832,\n",
              " 'issues': 833,\n",
              " 'gets': 834,\n",
              " 'strong': 835,\n",
              " 'racist': 836,\n",
              " 'gate': 837,\n",
              " 'german': 838,\n",
              " 'fact': 839,\n",
              " 'websites': 840,\n",
              " 'russian': 841,\n",
              " 'advantages': 842,\n",
              " 'baby': 843,\n",
              " 'intelligence': 844,\n",
              " 'personality': 845,\n",
              " '000': 846,\n",
              " 'developer': 847,\n",
              " 'recommend': 848,\n",
              " 'ms': 849,\n",
              " 'room': 850,\n",
              " 'teacher': 851,\n",
              " 'created': 852,\n",
              " 'branch': 853,\n",
              " 'characteristics': 854,\n",
              " 'pressure': 855,\n",
              " 'rich': 856,\n",
              " 'hindi': 857,\n",
              " 'please': 858,\n",
              " 'heart': 859,\n",
              " 'near': 860,\n",
              " 'meet': 861,\n",
              " 'pregnant': 862,\n",
              " 'credit': 863,\n",
              " 'dark': 864,\n",
              " 'fat': 865,\n",
              " 'currently': 866,\n",
              " 'hyderabad': 867,\n",
              " 'sites': 868,\n",
              " 'marry': 869,\n",
              " 'inside': 870,\n",
              " 'doctor': 871,\n",
              " 'pass': 872,\n",
              " 'laws': 873,\n",
              " 'source': 874,\n",
              " 'startup': 875,\n",
              " 'economy': 876,\n",
              " 'obama': 877,\n",
              " 'apple': 878,\n",
              " 'west': 879,\n",
              " 'bring': 880,\n",
              " 'positive': 881,\n",
              " 'pursue': 882,\n",
              " 'whole': 883,\n",
              " 'structure': 884,\n",
              " 'scope': 885,\n",
              " 'building': 886,\n",
              " 'early': 887,\n",
              " 'charge': 888,\n",
              " 'son': 889,\n",
              " 'spend': 890,\n",
              " 'solve': 891,\n",
              " 'maths': 892,\n",
              " 'ok': 893,\n",
              " 'windows': 894,\n",
              " 'partner': 895,\n",
              " 'ca': 896,\n",
              " 'network': 897,\n",
              " 'works': 898,\n",
              " 'videos': 899,\n",
              " 'crush': 900,\n",
              " 'alone': 901,\n",
              " 'smart': 902,\n",
              " 'numbers': 903,\n",
              " 'completely': 904,\n",
              " 'topics': 905,\n",
              " 'bitcoin': 906,\n",
              " 'views': 907,\n",
              " 'christians': 908,\n",
              " 'gas': 909,\n",
              " 'officer': 910,\n",
              " 'certain': 911,\n",
              " 'among': 912,\n",
              " 'ones': 913,\n",
              " 'content': 914,\n",
              " 'cbse': 915,\n",
              " 'text': 916,\n",
              " 'film': 917,\n",
              " 'art': 918,\n",
              " 'talking': 919,\n",
              " 'especially': 920,\n",
              " 'practice': 921,\n",
              " 'africa': 922,\n",
              " 'factors': 923,\n",
              " 'according': 924,\n",
              " 'd': 925,\n",
              " 'global': 926,\n",
              " 'iq': 927,\n",
              " 'cell': 928,\n",
              " 'religious': 929,\n",
              " 'reduce': 930,\n",
              " 'asian': 931,\n",
              " 'christian': 932,\n",
              " 'needed': 933,\n",
              " 'complete': 934,\n",
              " 'teach': 935,\n",
              " 'healthy': 936,\n",
              " 'pune': 937,\n",
              " 'treatment': 938,\n",
              " 'dogs': 939,\n",
              " 'exactly': 940,\n",
              " 'stupid': 941,\n",
              " 'written': 942,\n",
              " 'ago': 943,\n",
              " 'race': 944,\n",
              " 'save': 945,\n",
              " 'buying': 946,\n",
              " 'yes': 947,\n",
              " 'file': 948,\n",
              " 'mom': 949,\n",
              " 'distance': 950,\n",
              " 'cs': 951,\n",
              " 'advanced': 952,\n",
              " 'coming': 953,\n",
              " 'cold': 954,\n",
              " 'simple': 955,\n",
              " 'eyes': 956,\n",
              " 'novel': 957,\n",
              " 'minimum': 958,\n",
              " 'east': 959,\n",
              " 'electrical': 960,\n",
              " 'songs': 961,\n",
              " 'hurt': 962,\n",
              " 'train': 963,\n",
              " 'attack': 964,\n",
              " 'color': 965,\n",
              " 'democrats': 966,\n",
              " 'whatâ\\x80\\x99s': 967,\n",
              " 'method': 968,\n",
              " 'thought': 969,\n",
              " 'fear': 970,\n",
              " 'community': 971,\n",
              " 'policy': 972,\n",
              " 'multiple': 973,\n",
              " 'insurance': 974,\n",
              " 'playing': 975,\n",
              " 'dead': 976,\n",
              " 'mathematics': 977,\n",
              " 'giving': 978,\n",
              " 'football': 979,\n",
              " 'analysis': 980,\n",
              " 'easily': 981,\n",
              " 'african': 982,\n",
              " 'procedure': 983,\n",
              " 'eye': 984,\n",
              " 'clear': 985,\n",
              " 'lead': 986,\n",
              " 'result': 987,\n",
              " 'abroad': 988,\n",
              " 'letter': 989,\n",
              " 'transfer': 990,\n",
              " 'fix': 991,\n",
              " 'lower': 992,\n",
              " 'anxiety': 993,\n",
              " 'almost': 994,\n",
              " 'cannot': 995,\n",
              " 'opportunities': 996,\n",
              " 'hindu': 997,\n",
              " 'green': 998,\n",
              " 'economic': 999,\n",
              " 'react': 1000,\n",
              " ...}"
            ]
          },
          "metadata": {
            "tags": []
          },
          "execution_count": 65
        }
      ]
    },
    {
      "cell_type": "code",
      "metadata": {
        "id": "rmwc7lh4oBNL",
        "colab_type": "code",
        "colab": {}
      },
      "source": [
        "embedding_matrix = np.zeros((len(word_index)+1,100))\n",
        "for word, i in word_index.items():\n",
        "    embedding_vector = embeddings_index.get(word)\n",
        "    if embedding_vector is not None:\n",
        "        # words not found in embedding index will be all-zeros.\n",
        "        embedding_matrix[i] = embedding_vector"
      ],
      "execution_count": 0,
      "outputs": []
    },
    {
      "cell_type": "code",
      "metadata": {
        "id": "hoNJvqrboFLC",
        "colab_type": "code",
        "outputId": "26461c29-028d-4f37-8dec-6f7b39fe3035",
        "colab": {
          "base_uri": "https://localhost:8080/",
          "height": 254
        }
      },
      "source": [
        "embedding_matrix"
      ],
      "execution_count": 0,
      "outputs": [
        {
          "output_type": "execute_result",
          "data": {
            "text/plain": [
              "array([[ 0.        ,  0.        ,  0.        , ...,  0.        ,\n",
              "         0.        ,  0.        ],\n",
              "       [-0.038194  , -0.24487001,  0.72812003, ..., -0.1459    ,\n",
              "         0.82779998,  0.27061999],\n",
              "       [-0.15180001,  0.38409001,  0.89340001, ..., -0.27123001,\n",
              "         0.22157   ,  0.92111999],\n",
              "       ...,\n",
              "       [ 0.        ,  0.        ,  0.        , ...,  0.        ,\n",
              "         0.        ,  0.        ],\n",
              "       [-0.067863  , -0.26969001, -0.36182001, ...,  0.16723999,\n",
              "        -0.08863   ,  0.17496   ],\n",
              "       [ 0.046097  ,  0.45210001,  0.1778    , ...,  0.10402   ,\n",
              "         0.029458  ,  0.52072001]])"
            ]
          },
          "metadata": {
            "tags": []
          },
          "execution_count": 68
        }
      ]
    },
    {
      "cell_type": "code",
      "metadata": {
        "id": "3cjEPSaloHlo",
        "colab_type": "code",
        "colab": {}
      },
      "source": [
        "tok.fit_on_texts(x_test)\n",
        "sequences_test = tok.texts_to_sequences(x_test)"
      ],
      "execution_count": 0,
      "outputs": []
    },
    {
      "cell_type": "code",
      "metadata": {
        "id": "D8JjfF8goYv_",
        "colab_type": "code",
        "colab": {}
      },
      "source": [
        "#sequences_test"
      ],
      "execution_count": 0,
      "outputs": []
    },
    {
      "cell_type": "code",
      "metadata": {
        "id": "h-t4A4RAoeLE",
        "colab_type": "code",
        "colab": {}
      },
      "source": [
        "sequences_matrix_test = sequence.pad_sequences(sequences_test,maxlen=max_quant_len)"
      ],
      "execution_count": 0,
      "outputs": []
    },
    {
      "cell_type": "code",
      "metadata": {
        "id": "5GmLOghxoi9o",
        "colab_type": "code",
        "colab": {}
      },
      "source": [
        "from keras.layers import Embedding"
      ],
      "execution_count": 0,
      "outputs": []
    },
    {
      "cell_type": "code",
      "metadata": {
        "id": "1yDI3VlootC7",
        "colab_type": "code",
        "colab": {}
      },
      "source": [
        "from keras.layers import LSTM, Activation, Dense, Dropout, Input, Embedding"
      ],
      "execution_count": 0,
      "outputs": []
    },
    {
      "cell_type": "code",
      "metadata": {
        "id": "LJEfOWZ9ouw0",
        "colab_type": "code",
        "colab": {}
      },
      "source": [
        "#functional API\n",
        "def RNN():\n",
        "    inputs = Input(name='inputs',shape=[max_len], dtype='float32')\n",
        "    layer = Embedding(len(word_index)+1,100,input_length=max_len,weights=[embedding_matrix],mask_zero=True,trainable=False)(inputs)\n",
        "    layer = LSTM(64)(layer)\n",
        "\n",
        "    layer = Dense(256,name='FC1')(layer)\n",
        "    layer = Activation('relu')(layer)\n",
        "    layer = Dropout(0.5)(layer)\n",
        "\n",
        "    layer = Dense(128,name='FC2')(layer)\n",
        "    layer = Activation('tanh')(layer)\n",
        "    layer = Dropout(0.5)(layer)\n",
        "\n",
        "    #layer = Dense(256,name='FC3')(layer)\n",
        "    #layer = Activation('tanh')(layer)\n",
        "    #layer = Dropout(0.5)(layer)\n",
        "    layer=BatchNormalization()(layer)\n",
        "    \n",
        "    layer = Dense(1,name='out_layer')(layer)\n",
        "    layer = Activation('sigmoid')(layer)\n",
        "    model = Model(inputs=inputs,outputs=layer)\n",
        "    return model"
      ],
      "execution_count": 0,
      "outputs": []
    },
    {
      "cell_type": "code",
      "metadata": {
        "id": "0DQl_MqMpFOc",
        "colab_type": "code",
        "outputId": "17359348-d465-4cfa-bcbc-d4c99acbd776",
        "colab": {
          "base_uri": "https://localhost:8080/",
          "height": 599
        }
      },
      "source": [
        "model = RNN()\n",
        "model.summary()\n",
        "model.compile(loss='binary_crossentropy',optimizer='adam',\n",
        "              metrics=['accuracy'])"
      ],
      "execution_count": 0,
      "outputs": [
        {
          "output_type": "stream",
          "text": [
            "Model: \"model_2\"\n",
            "_________________________________________________________________\n",
            "Layer (type)                 Output Shape              Param #   \n",
            "=================================================================\n",
            "inputs (InputLayer)          (None, 30)                0         \n",
            "_________________________________________________________________\n",
            "embedding_2 (Embedding)      (None, 30, 100)           19622100  \n",
            "_________________________________________________________________\n",
            "lstm_2 (LSTM)                (None, 64)                42240     \n",
            "_________________________________________________________________\n",
            "FC1 (Dense)                  (None, 256)               16640     \n",
            "_________________________________________________________________\n",
            "activation_4 (Activation)    (None, 256)               0         \n",
            "_________________________________________________________________\n",
            "dropout_3 (Dropout)          (None, 256)               0         \n",
            "_________________________________________________________________\n",
            "FC2 (Dense)                  (None, 128)               32896     \n",
            "_________________________________________________________________\n",
            "activation_5 (Activation)    (None, 128)               0         \n",
            "_________________________________________________________________\n",
            "dropout_4 (Dropout)          (None, 128)               0         \n",
            "_________________________________________________________________\n",
            "batch_normalization_2 (Batch (None, 128)               512       \n",
            "_________________________________________________________________\n",
            "out_layer (Dense)            (None, 1)                 129       \n",
            "_________________________________________________________________\n",
            "activation_6 (Activation)    (None, 1)                 0         \n",
            "=================================================================\n",
            "Total params: 19,714,517\n",
            "Trainable params: 92,161\n",
            "Non-trainable params: 19,622,356\n",
            "_________________________________________________________________\n"
          ],
          "name": "stdout"
        }
      ]
    },
    {
      "cell_type": "markdown",
      "metadata": {
        "id": "TFmHxlSDpQHT",
        "colab_type": "text"
      },
      "source": [
        "CHECKPOINT\n"
      ]
    },
    {
      "cell_type": "code",
      "metadata": {
        "id": "APHrXnFHpI3U",
        "colab_type": "code",
        "colab": {}
      },
      "source": [
        "#from tensorflow.keras.callbacks import ModelCheckpoint\n",
        "from keras.callbacks import ModelCheckpoint"
      ],
      "execution_count": 0,
      "outputs": []
    },
    {
      "cell_type": "code",
      "metadata": {
        "id": "sBjkjS89pPJu",
        "colab_type": "code",
        "colab": {}
      },
      "source": [
        "outputFolder = './Quoraweights'\n",
        "if not os.path.exists(outputFolder):\n",
        "    os.makedirs(outputFolder)\n"
      ],
      "execution_count": 0,
      "outputs": []
    },
    {
      "cell_type": "code",
      "metadata": {
        "id": "Xia_lUUOpT9L",
        "colab_type": "code",
        "outputId": "a9d4bda6-71c2-4842-82b2-15e80486602b",
        "colab": {
          "base_uri": "https://localhost:8080/",
          "height": 35
        }
      },
      "source": [
        "filepath=outputFolder+'/weights-{epoch:02d}-{val_loss:.4f}.h5'"
      ],
      "execution_count": 0,
      "outputs": [
        {
          "output_type": "stream",
          "text": [
            "WARNING:tensorflow:`period` argument is deprecated. Please use `save_freq` to specify the frequency in number of samples seen.\n"
          ],
          "name": "stdout"
        }
      ]
    },
    {
      "cell_type": "code",
      "metadata": {
        "id": "msFj_TjCpWwp",
        "colab_type": "code",
        "outputId": "318f24e6-8502-4242-8076-a11e0ea7f9c0",
        "colab": {
          "base_uri": "https://localhost:8080/",
          "height": 35
        }
      },
      "source": [
        "checkpoint=ModelCheckpoint(filepath, monitor='val_loss',verbose=1,\n",
        "                           save_best_only=False, \n",
        "                           save_weights_only=True, \n",
        "                           mode='auto', period=5)\n",
        "# this will save the weights every 5 epoch"
      ],
      "execution_count": 0,
      "outputs": [
        {
          "output_type": "stream",
          "text": [
            "WARNING:tensorflow:`period` argument is deprecated. Please use `save_freq` to specify the frequency in number of samples seen.\n"
          ],
          "name": "stdout"
        }
      ]
    },
    {
      "cell_type": "markdown",
      "metadata": {
        "id": "BS18IRHQppgq",
        "colab_type": "text"
      },
      "source": [
        "EARLY STOPPING\n"
      ]
    },
    {
      "cell_type": "code",
      "metadata": {
        "id": "-e0971jhpkSJ",
        "colab_type": "code",
        "colab": {}
      },
      "source": [
        "from tensorflow.keras.callbacks import EarlyStopping\n",
        "earlystop=EarlyStopping(monitor='val_loss',min_delta=0.01, patience=5,\n",
        "                          verbose=1, mode='auto')"
      ],
      "execution_count": 0,
      "outputs": []
    },
    {
      "cell_type": "markdown",
      "metadata": {
        "id": "lNmIlMjduEjR",
        "colab_type": "text"
      },
      "source": [
        "CUSTOM CALLBACKS\n"
      ]
    },
    {
      "cell_type": "code",
      "metadata": {
        "id": "kvlwSTCKqmVQ",
        "colab_type": "code",
        "colab": {}
      },
      "source": [
        "class my_custom_callback(Callback):\n",
        "    # There are multiple actions that you can take at various stages of model fitting process\n",
        "    # Those functions are commented out right now, but if you want you can add actions\n",
        "    # I have added a auc score calcualtion at every epoch's end\n",
        "    \n",
        "    def __init__(self,features,target):\n",
        "        self.test_data=(features,target)\n",
        "    \n",
        "    \n",
        "        \n",
        "\n",
        "    def on_epoch_end(self, epoch, logs=None):\n",
        "        y_pred = self.model.predict(self.test_data[0])\n",
        "        auc=roc_auc_score(self.test_data[1], y_pred)\n",
        "        print(' \\n auc score for validation data :',auc,'\\n')\n",
        "        return\n",
        " "
      ],
      "execution_count": 0,
      "outputs": []
    },
    {
      "cell_type": "code",
      "metadata": {
        "id": "_NB4LCo9s2Gt",
        "colab_type": "code",
        "colab": {}
      },
      "source": [
        "mycallback=my_custom_callback(sequences_matrix_test,y_test)"
      ],
      "execution_count": 0,
      "outputs": []
    },
    {
      "cell_type": "code",
      "metadata": {
        "id": "3XXy7DBWxlEw",
        "colab_type": "code",
        "colab": {}
      },
      "source": [
        ""
      ],
      "execution_count": 0,
      "outputs": []
    },
    {
      "cell_type": "code",
      "metadata": {
        "id": "sDbiUjZ6pwFn",
        "colab_type": "code",
        "outputId": "23a8d100-5460-4ba8-c62d-7f1c934eb8e4",
        "colab": {
          "base_uri": "https://localhost:8080/",
          "height": 617
        }
      },
      "source": [
        "model.fit(sequences_matrix_train, y_train,\n",
        "          validation_data=(sequences_matrix_test, y_test),epochs=10,class_weight={0:1,1:12},\n",
        "          batch_size=10000,callbacks=[mycallback,earlystop],verbose=1)"
      ],
      "execution_count": 0,
      "outputs": [
        {
          "output_type": "stream",
          "text": [
            "Train on 1044897 samples, validate on 261225 samples\n",
            "Epoch 1/10\n",
            "1044897/1044897 [==============================] - 324s 310us/step - loss: 0.6531 - acc: 0.8636 - val_loss: 0.2303 - val_acc: 0.9193\n",
            " \n",
            " auc score for validation data : 0.7763594347813371 \n",
            "\n",
            "Epoch 2/10\n",
            "1044897/1044897 [==============================] - 324s 310us/step - loss: 0.5644 - acc: 0.8667 - val_loss: 0.2702 - val_acc: 0.8899\n",
            " \n",
            " auc score for validation data : 0.7850319150918079 \n",
            "\n",
            "Epoch 3/10\n",
            "1044897/1044897 [==============================] - 324s 310us/step - loss: 0.5367 - acc: 0.8716 - val_loss: 0.3488 - val_acc: 0.8402\n",
            " \n",
            " auc score for validation data : 0.7864576707715657 \n",
            "\n",
            "Epoch 4/10\n",
            "1044897/1044897 [==============================] - 328s 314us/step - loss: 0.5124 - acc: 0.8765 - val_loss: 0.3034 - val_acc: 0.8712\n",
            " \n",
            " auc score for validation data : 0.7849533654036813 \n",
            "\n",
            "Epoch 5/10\n",
            "1044897/1044897 [==============================] - 325s 311us/step - loss: 0.4950 - acc: 0.8819 - val_loss: 0.3651 - val_acc: 0.8296\n",
            " \n",
            " auc score for validation data : 0.7780064664616668 \n",
            "\n",
            "Epoch 6/10\n",
            "1044897/1044897 [==============================] - 328s 314us/step - loss: 0.4858 - acc: 0.8836 - val_loss: 0.3372 - val_acc: 0.8485\n",
            " \n",
            " auc score for validation data : 0.7850256050657469 \n",
            "\n",
            "Epoch 00006: early stopping\n"
          ],
          "name": "stdout"
        },
        {
          "output_type": "execute_result",
          "data": {
            "text/plain": [
              "<keras.callbacks.History at 0x7f70893d1860>"
            ]
          },
          "metadata": {
            "tags": []
          },
          "execution_count": 84
        }
      ]
    },
    {
      "cell_type": "code",
      "metadata": {
        "id": "0PcwfudxqKqL",
        "colab_type": "code",
        "outputId": "7a87a379-89a9-4869-c34c-58b27d03c12e",
        "colab": {
          "base_uri": "https://localhost:8080/",
          "height": 35
        }
      },
      "source": [
        "predictions=model.predict(sequences_matrix_test)\n",
        "from sklearn.metrics import roc_auc_score\n",
        "roc_auc_score(y_test,predictions)"
      ],
      "execution_count": 0,
      "outputs": [
        {
          "output_type": "execute_result",
          "data": {
            "text/plain": [
              "0.7512767467539729"
            ]
          },
          "metadata": {
            "tags": []
          },
          "execution_count": 83
        }
      ]
    },
    {
      "cell_type": "code",
      "metadata": {
        "id": "NN6k5imRt-lT",
        "colab_type": "code",
        "colab": {}
      },
      "source": [
        ""
      ],
      "execution_count": 0,
      "outputs": []
    }
  ]
}