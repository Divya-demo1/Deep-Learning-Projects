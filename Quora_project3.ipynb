{
  "nbformat": 4,
  "nbformat_minor": 0,
  "metadata": {
    "colab": {
      "name": "Quora_project.ipynb",
      "provenance": [],
      "collapsed_sections": [],
      "authorship_tag": "ABX9TyN5RrdBgAFmcZeWCe5JcAAb",
      "include_colab_link": true
    },
    "kernelspec": {
      "name": "python3",
      "display_name": "Python 3"
    }
  },
  "cells": [
    {
      "cell_type": "markdown",
      "metadata": {
        "id": "view-in-github",
        "colab_type": "text"
      },
      "source": [
        "<a href=\"https://colab.research.google.com/github/Divya-demo1/Deep-Learning-Projects/blob/master/Quora_project3.ipynb\" target=\"_parent\"><img src=\"https://colab.research.google.com/assets/colab-badge.svg\" alt=\"Open In Colab\"/></a>"
      ]
    },
    {
      "cell_type": "code",
      "metadata": {
        "id": "fLI9qFwci0Lp",
        "colab_type": "code",
        "outputId": "b094b56c-5ace-4b00-afbe-c81f65d1071d",
        "colab": {
          "base_uri": "https://localhost:8080/",
          "height": 63
        }
      },
      "source": [
        "import tensorflow as tf\n",
        "tf.test.gpu_device_name()\n",
        "import os"
      ],
      "execution_count": 0,
      "outputs": [
        {
          "output_type": "display_data",
          "data": {
            "text/html": [
              "<p style=\"color: red;\">\n",
              "The default version of TensorFlow in Colab will soon switch to TensorFlow 2.x.<br>\n",
              "We recommend you <a href=\"https://www.tensorflow.org/guide/migrate\" target=\"_blank\">upgrade</a> now \n",
              "or ensure your notebook will continue to use TensorFlow 1.x via the <code>%tensorflow_version 1.x</code> magic:\n",
              "<a href=\"https://colab.research.google.com/notebooks/tensorflow_version.ipynb\" target=\"_blank\">more info</a>.</p>\n"
            ],
            "text/plain": [
              "<IPython.core.display.HTML object>"
            ]
          },
          "metadata": {
            "tags": []
          }
        }
      ]
    },
    {
      "cell_type": "markdown",
      "metadata": {
        "id": "u8PfERuTRXyK",
        "colab_type": "text"
      },
      "source": [
        "**Loading file from dropbox**\n"
      ]
    },
    {
      "cell_type": "code",
      "metadata": {
        "id": "sC7n_2dTUnPp",
        "colab_type": "code",
        "outputId": "04463ac4-ea88-4d44-de84-ec1f18f27038",
        "colab": {
          "base_uri": "https://localhost:8080/",
          "height": 377
        }
      },
      "source": [
        "!wget https://www.dropbox.com/sh/kpf9z73woodfssv/AAAw1_JIzpuVvwteJCma0xMla?dl=0"
      ],
      "execution_count": 0,
      "outputs": [
        {
          "output_type": "stream",
          "text": [
            "--2020-02-06 22:55:00--  https://www.dropbox.com/sh/kpf9z73woodfssv/AAAw1_JIzpuVvwteJCma0xMla?dl=0\n",
            "Resolving www.dropbox.com (www.dropbox.com)... 162.125.9.1, 2620:100:601b:1::a27d:801\n",
            "Connecting to www.dropbox.com (www.dropbox.com)|162.125.9.1|:443... connected.\n",
            "HTTP request sent, awaiting response... 301 Moved Permanently\n",
            "Location: /sh/raw/kpf9z73woodfssv/AAAw1_JIzpuVvwteJCma0xMla [following]\n",
            "--2020-02-06 22:55:00--  https://www.dropbox.com/sh/raw/kpf9z73woodfssv/AAAw1_JIzpuVvwteJCma0xMla\n",
            "Reusing existing connection to www.dropbox.com:443.\n",
            "HTTP request sent, awaiting response... 302 Found\n",
            "Location: https://uce2b6abbbe64ac9f77f4160d64d.dl.dropboxusercontent.com/zip_download_get/AVDRF7Z9zoEOpkUYVCVcLoSpZI4ielprOvDnjWmaQIrteuSdWWQfehy3uLvO7tIo11G_ww1VJpQroUHP_x9eZeCrvTYoQXst_wQEkU_9KeNpIQ [following]\n",
            "--2020-02-06 22:55:00--  https://uce2b6abbbe64ac9f77f4160d64d.dl.dropboxusercontent.com/zip_download_get/AVDRF7Z9zoEOpkUYVCVcLoSpZI4ielprOvDnjWmaQIrteuSdWWQfehy3uLvO7tIo11G_ww1VJpQroUHP_x9eZeCrvTYoQXst_wQEkU_9KeNpIQ\n",
            "Resolving uce2b6abbbe64ac9f77f4160d64d.dl.dropboxusercontent.com (uce2b6abbbe64ac9f77f4160d64d.dl.dropboxusercontent.com)... 162.125.9.6, 2620:100:601f:6::a27d:906\n",
            "Connecting to uce2b6abbbe64ac9f77f4160d64d.dl.dropboxusercontent.com (uce2b6abbbe64ac9f77f4160d64d.dl.dropboxusercontent.com)|162.125.9.6|:443... connected.\n",
            "HTTP request sent, awaiting response... 200 OK\n",
            "Length: 124206982 (118M) [application/zip]\n",
            "Saving to: ‘AAAw1_JIzpuVvwteJCma0xMla?dl=0’\n",
            "\n",
            "AAAw1_JIzpuVvwteJCm 100%[===================>] 118.45M  50.5MB/s    in 2.3s    \n",
            "\n",
            "2020-02-06 22:55:03 (50.5 MB/s) - ‘AAAw1_JIzpuVvwteJCma0xMla?dl=0’ saved [124206982/124206982]\n",
            "\n"
          ],
          "name": "stdout"
        }
      ]
    },
    {
      "cell_type": "code",
      "metadata": {
        "id": "25MNNAMUU4lu",
        "colab_type": "code",
        "outputId": "c1d052ec-3b27-41a6-98e1-18cd92942283",
        "colab": {
          "base_uri": "https://localhost:8080/",
          "height": 119
        }
      },
      "source": [
        "!unzip AAAw1_JIzpuVvwteJCma0xMla?dl=0"
      ],
      "execution_count": 0,
      "outputs": [
        {
          "output_type": "stream",
          "text": [
            "Archive:  AAAw1_JIzpuVvwteJCma0xMla?dl=0\n",
            "warning:  stripped absolute path spec from /\n",
            "mapname:  conversion of  failed\n",
            " extracting: train.csv               \n",
            "\n",
            "1 archive had fatal errors.\n"
          ],
          "name": "stdout"
        }
      ]
    },
    {
      "cell_type": "code",
      "metadata": {
        "id": "Hb3w2NsCVP30",
        "colab_type": "code",
        "outputId": "9896a311-645c-4cf4-f258-7cc7e4fb8498",
        "colab": {
          "base_uri": "https://localhost:8080/",
          "height": 34
        }
      },
      "source": [
        "os.listdir()"
      ],
      "execution_count": 0,
      "outputs": [
        {
          "output_type": "execute_result",
          "data": {
            "text/plain": [
              "['.config', 'AAAw1_JIzpuVvwteJCma0xMla?dl=0', 'train.csv', 'sample_data']"
            ]
          },
          "metadata": {
            "tags": []
          },
          "execution_count": 4
        }
      ]
    },
    {
      "cell_type": "code",
      "metadata": {
        "id": "H-UAQh9sVTxB",
        "colab_type": "code",
        "outputId": "a7ca994a-c21e-4369-a49e-0e2caed05453",
        "colab": {
          "base_uri": "https://localhost:8080/",
          "height": 34
        }
      },
      "source": [
        "\n",
        "import sklearn.datasets as skds\n",
        "from pathlib import Path\n",
        "import pandas as pd\n",
        "import numpy as np\n",
        "from sklearn.model_selection import train_test_split\n",
        "from nltk import word_tokenize\n",
        "from keras.preprocessing.text import Tokenizer\n",
        "from keras.preprocessing import sequence\n",
        "from keras.layers import LSTM, Activation, Dense, Dropout, Input, Embedding\n",
        "from keras.models import Model\n",
        "from keras.layers.normalization import BatchNormalization"
      ],
      "execution_count": 0,
      "outputs": [
        {
          "output_type": "stream",
          "text": [
            "Using TensorFlow backend.\n"
          ],
          "name": "stderr"
        }
      ]
    },
    {
      "cell_type": "code",
      "metadata": {
        "id": "n7zYXtF9Vmb5",
        "colab_type": "code",
        "colab": {}
      },
      "source": [
        "quora = pd.read_csv('train.csv',encoding = 'ISO-8859-1')"
      ],
      "execution_count": 0,
      "outputs": []
    },
    {
      "cell_type": "code",
      "metadata": {
        "id": "9Cw8pNGaVr7m",
        "colab_type": "code",
        "colab": {}
      },
      "source": [
        "quora.head()"
      ],
      "execution_count": 0,
      "outputs": []
    },
    {
      "cell_type": "code",
      "metadata": {
        "id": "maETq7JJWKoq",
        "colab_type": "code",
        "outputId": "2afbcc87-d31e-4a27-d623-28f03bb06b2e",
        "colab": {
          "base_uri": "https://localhost:8080/",
          "height": 34
        }
      },
      "source": [
        "quora.shape"
      ],
      "execution_count": 0,
      "outputs": [
        {
          "output_type": "execute_result",
          "data": {
            "text/plain": [
              "(1306122, 3)"
            ]
          },
          "metadata": {
            "tags": []
          },
          "execution_count": 7
        }
      ]
    },
    {
      "cell_type": "code",
      "metadata": {
        "id": "W9NI9lmlWNlj",
        "colab_type": "code",
        "colab": {}
      },
      "source": [
        "quora.drop(['qid'],inplace=True,axis=1)"
      ],
      "execution_count": 0,
      "outputs": []
    },
    {
      "cell_type": "code",
      "metadata": {
        "id": "APxFDjojW_oz",
        "colab_type": "code",
        "outputId": "6fb9f289-0f38-488b-a4cc-83cd0df86abf",
        "colab": {
          "base_uri": "https://localhost:8080/",
          "height": 204
        }
      },
      "source": [
        "\n",
        "quora.head()"
      ],
      "execution_count": 0,
      "outputs": [
        {
          "output_type": "execute_result",
          "data": {
            "text/html": [
              "<div>\n",
              "<style scoped>\n",
              "    .dataframe tbody tr th:only-of-type {\n",
              "        vertical-align: middle;\n",
              "    }\n",
              "\n",
              "    .dataframe tbody tr th {\n",
              "        vertical-align: top;\n",
              "    }\n",
              "\n",
              "    .dataframe thead th {\n",
              "        text-align: right;\n",
              "    }\n",
              "</style>\n",
              "<table border=\"1\" class=\"dataframe\">\n",
              "  <thead>\n",
              "    <tr style=\"text-align: right;\">\n",
              "      <th></th>\n",
              "      <th>question_text</th>\n",
              "      <th>target</th>\n",
              "    </tr>\n",
              "  </thead>\n",
              "  <tbody>\n",
              "    <tr>\n",
              "      <th>0</th>\n",
              "      <td>How did Quebec nationalists see their province...</td>\n",
              "      <td>0</td>\n",
              "    </tr>\n",
              "    <tr>\n",
              "      <th>1</th>\n",
              "      <td>Do you have an adopted dog, how would you enco...</td>\n",
              "      <td>0</td>\n",
              "    </tr>\n",
              "    <tr>\n",
              "      <th>2</th>\n",
              "      <td>Why does velocity affect time? Does velocity a...</td>\n",
              "      <td>0</td>\n",
              "    </tr>\n",
              "    <tr>\n",
              "      <th>3</th>\n",
              "      <td>How did Otto von Guericke used the Magdeburg h...</td>\n",
              "      <td>0</td>\n",
              "    </tr>\n",
              "    <tr>\n",
              "      <th>4</th>\n",
              "      <td>Can I convert montra helicon D to a mountain b...</td>\n",
              "      <td>0</td>\n",
              "    </tr>\n",
              "  </tbody>\n",
              "</table>\n",
              "</div>"
            ],
            "text/plain": [
              "                                       question_text  target\n",
              "0  How did Quebec nationalists see their province...       0\n",
              "1  Do you have an adopted dog, how would you enco...       0\n",
              "2  Why does velocity affect time? Does velocity a...       0\n",
              "3  How did Otto von Guericke used the Magdeburg h...       0\n",
              "4  Can I convert montra helicon D to a mountain b...       0"
            ]
          },
          "metadata": {
            "tags": []
          },
          "execution_count": 9
        }
      ]
    },
    {
      "cell_type": "code",
      "metadata": {
        "id": "vmS10V73Y6fN",
        "colab_type": "code",
        "colab": {}
      },
      "source": [
        "quora_train,quora_test=train_test_split(quora,test_size=0.2,random_state=2)"
      ],
      "execution_count": 0,
      "outputs": []
    },
    {
      "cell_type": "code",
      "metadata": {
        "id": "7Y36YWcpY97l",
        "colab_type": "code",
        "colab": {}
      },
      "source": [
        "x_train=quora_train['question_text']\n",
        "y_train=quora_train['target']\n",
        "x_test=quora_test['question_text']\n",
        "y_test=quora_test['target']"
      ],
      "execution_count": 0,
      "outputs": []
    },
    {
      "cell_type": "code",
      "metadata": {
        "id": "t3ejKgHKY_mJ",
        "colab_type": "code",
        "colab": {}
      },
      "source": [
        "import nltk"
      ],
      "execution_count": 0,
      "outputs": []
    },
    {
      "cell_type": "code",
      "metadata": {
        "id": "HpU8UZE4ZMkF",
        "colab_type": "code",
        "outputId": "4bbb18ae-7ab6-4cd6-ab2d-85d265794503",
        "colab": {
          "base_uri": "https://localhost:8080/",
          "height": 68
        }
      },
      "source": [
        "nltk.download('punkt')"
      ],
      "execution_count": 0,
      "outputs": [
        {
          "output_type": "stream",
          "text": [
            "[nltk_data] Downloading package punkt to /root/nltk_data...\n",
            "[nltk_data]   Unzipping tokenizers/punkt.zip.\n"
          ],
          "name": "stdout"
        },
        {
          "output_type": "execute_result",
          "data": {
            "text/plain": [
              "True"
            ]
          },
          "metadata": {
            "tags": []
          },
          "execution_count": 13
        }
      ]
    },
    {
      "cell_type": "code",
      "metadata": {
        "id": "QhTCynNlZQfL",
        "colab_type": "code",
        "colab": {}
      },
      "source": [
        "sent_lens=[]\n",
        "for sent in quora_train['question_text']:\n",
        "    sent_lens.append(len(word_tokenize(sent)))"
      ],
      "execution_count": 0,
      "outputs": []
    },
    {
      "cell_type": "code",
      "metadata": {
        "id": "CWPjuIR7ZTaE",
        "colab_type": "code",
        "outputId": "0ae79e3d-319d-44b3-e978-6087ec578612",
        "colab": {
          "base_uri": "https://localhost:8080/",
          "height": 34
        }
      },
      "source": [
        "\n",
        "max(sent_lens)"
      ],
      "execution_count": 0,
      "outputs": [
        {
          "output_type": "execute_result",
          "data": {
            "text/plain": [
              "412"
            ]
          },
          "metadata": {
            "tags": []
          },
          "execution_count": 15
        }
      ]
    },
    {
      "cell_type": "code",
      "metadata": {
        "id": "BMO25R0IZYFi",
        "colab_type": "code",
        "colab": {}
      },
      "source": [
        "max_quant_len=np.quantile(sent_lens,0.95)"
      ],
      "execution_count": 0,
      "outputs": []
    },
    {
      "cell_type": "code",
      "metadata": {
        "id": "cEkS21AevzOE",
        "colab_type": "code",
        "outputId": "2c2eddd0-99df-46cc-f40a-e8dc4baba10d",
        "colab": {
          "base_uri": "https://localhost:8080/",
          "height": 34
        }
      },
      "source": [
        "max_quant_len=int(max_quant_len)\n",
        "max_quant_len"
      ],
      "execution_count": 0,
      "outputs": [
        {
          "output_type": "execute_result",
          "data": {
            "text/plain": [
              "30"
            ]
          },
          "metadata": {
            "tags": []
          },
          "execution_count": 25
        }
      ]
    },
    {
      "cell_type": "code",
      "metadata": {
        "id": "YnSEzNxEZbQq",
        "colab_type": "code",
        "colab": {}
      },
      "source": [
        "max_len =max_quant_len\n",
        "tok = Tokenizer(char_level=False,split=' ')\n",
        "tok.fit_on_texts(x_train)\n",
        "sequences_train = tok.texts_to_sequences(x_train)"
      ],
      "execution_count": 0,
      "outputs": []
    },
    {
      "cell_type": "code",
      "metadata": {
        "id": "Q0RMOkO2atGe",
        "colab_type": "code",
        "colab": {}
      },
      "source": [
        "#tok.index_word"
      ],
      "execution_count": 0,
      "outputs": []
    },
    {
      "cell_type": "code",
      "metadata": {
        "id": "uNhvc1A_bJK7",
        "colab_type": "code",
        "colab": {}
      },
      "source": [
        "vocab_len=len(tok.index_word.keys())"
      ],
      "execution_count": 0,
      "outputs": []
    },
    {
      "cell_type": "code",
      "metadata": {
        "id": "V5834BY1bN5h",
        "colab_type": "code",
        "outputId": "3a6b212e-ebd1-453b-f4a3-c3faddd2fc71",
        "colab": {
          "base_uri": "https://localhost:8080/",
          "height": 34
        }
      },
      "source": [
        "vocab_len"
      ],
      "execution_count": 0,
      "outputs": [
        {
          "output_type": "execute_result",
          "data": {
            "text/plain": [
              "196220"
            ]
          },
          "metadata": {
            "tags": []
          },
          "execution_count": 22
        }
      ]
    },
    {
      "cell_type": "code",
      "metadata": {
        "id": "rg1NLi-2bP86",
        "colab_type": "code",
        "colab": {}
      },
      "source": [
        "sequences_matrix_train = sequence.pad_sequences(sequences_train,maxlen=max_quant_len)"
      ],
      "execution_count": 0,
      "outputs": []
    },
    {
      "cell_type": "code",
      "metadata": {
        "id": "sDC43ERUb6XI",
        "colab_type": "code",
        "outputId": "c1303a19-7248-44c1-fde6-ddcea5a0f457",
        "colab": {
          "base_uri": "https://localhost:8080/",
          "height": 136
        }
      },
      "source": [
        "sequences_matrix_train"
      ],
      "execution_count": 0,
      "outputs": [
        {
          "output_type": "execute_result",
          "data": {
            "text/plain": [
              "array([[   0,    0,    0, ..., 5916,   44,  242],\n",
              "       [   0,    0,    0, ...,    5, 1602, 3144],\n",
              "       [   0,    0,    0, ...,  136,   18,  296],\n",
              "       ...,\n",
              "       [   0,    0,    0, ...,  392,    7,  678],\n",
              "       [   0,    0,    0, ...,    6,   28,  560],\n",
              "       [   0,    0,    0, ..., 5472,    6,  142]], dtype=int32)"
            ]
          },
          "metadata": {
            "tags": []
          },
          "execution_count": 27
        }
      ]
    },
    {
      "cell_type": "markdown",
      "metadata": {
        "id": "iZRfq9BdSLtq",
        "colab_type": "text"
      },
      "source": [
        "**Loading data from google drive**"
      ]
    },
    {
      "cell_type": "code",
      "metadata": {
        "id": "MWGeKvAGSC8_",
        "colab_type": "code",
        "colab": {}
      },
      "source": [
        "!pip install -U -q PyDrive"
      ],
      "execution_count": 0,
      "outputs": []
    },
    {
      "cell_type": "code",
      "metadata": {
        "id": "MgMJD_-rb8Rd",
        "colab_type": "code",
        "colab": {}
      },
      "source": [
        "from pydrive.auth import GoogleAuth\n",
        "from pydrive.drive import GoogleDrive\n",
        "from google.colab import auth\n",
        "from oauth2client.client import GoogleCredentials"
      ],
      "execution_count": 0,
      "outputs": []
    },
    {
      "cell_type": "code",
      "metadata": {
        "id": "OJ4ZJgKxdus0",
        "colab_type": "code",
        "colab": {}
      },
      "source": [
        "auth.authenticate_user()\n",
        "gauth = GoogleAuth()\n",
        "gauth.credentials = GoogleCredentials.get_application_default()\n",
        "drive = GoogleDrive(gauth)"
      ],
      "execution_count": 0,
      "outputs": []
    },
    {
      "cell_type": "code",
      "metadata": {
        "id": "T9xSMcaSgDCP",
        "colab_type": "code",
        "outputId": "7e93d430-1776-4dff-bef3-d4cd0d40a1c9",
        "colab": {
          "base_uri": "https://localhost:8080/",
          "height": 1000
        }
      },
      "source": [
        "file_list = drive.ListFile({'q': \"'root' in parents and trashed=false\"}).GetList()\n",
        "for file1 in file_list:\n",
        "  print('title: %s, id: %s' % (file1['title'], file1['id']))"
      ],
      "execution_count": 0,
      "outputs": [
        {
          "output_type": "stream",
          "text": [
            "title: stacksample.zip, id: 12vawrfGZCl3CWFDSV7_6OTzwOKckcvSR\n",
            "title: glove.6B.100d.txt.zip, id: 1UuFu2iM81r-zCTELWKcT4zY2QRTpijCo\n",
            "title: train.csv, id: 1h_QAPLzFre6QVRZ7Bu7DIel6yaArAKNh\n",
            "title: Colab Notebooks, id: 1ATgDoTZH_i3iMLX3Cs56sBZ0rAkqiPbg\n",
            "title: New folder, id: 1Mgd5DdBB1b0kJ02Q7WARnxcD3tpDrR8K\n",
            "title: Python_basics_class_assign.ipynb, id: 0B139lAmq78gnbGZaSElPaFNRRkFiRFd4UXIzTEVzXy1oRk5z\n",
            "title: diabetes.csv, id: 0B139lAmq78gnOC1SQ3NxVkZJcWR3aXltU3IzYk04YXUyR0Rv\n",
            "title: Untitled presentation, id: 18wTMHUG4aHkXQNshqC4QEUFrbh4dfos7dQuopy2ubDo\n",
            "title: icicijulytodecember, id: 1xuo0sljCGw3LlM2-8GVWK-wee7uGFPrBmgPaUUjl60U\n",
            "title: DEEPTHI Resume2, id: 1SR4_8wBTdeuWHCiTHoNt668XBYHOuHlk_RtYc2veR_A\n",
            "title: Untitled document, id: 1jfbe_2mfK7ktxIhckuzCnAJ7z_W0vWfzN7b0xfx7XsU\n",
            "title: summary, id: 1oXCb8J6hUX_JCLeDw58zuiYctsoNVH1Kn1J3NkdtjRs\n",
            "title: Digit Per Minute(DPM) (1), id: 1H8oLNZAKMdZpvmKeOQKSgxP6UUG_4j24JryoG7Yvf8o\n",
            "title: 12day shudule children video, id: 1f8SCzRlgrNnvvL_hbiYG665pZxuUSeDS0eooM5rT_WE\n",
            "title: Abacus Syllabus, id: 1SgaXGrOlk5r9XmpKBZHFdLUvUMajp3XfAceofIEOYP4\n",
            "title: Updated 1 Flowchart for whole ERP, id: 1F9HcJutwOT_pZmNCnmB_s-sm0rwuNwg0c_JTlS2KpQE\n",
            "title: CONTACT INFO MMTPL, id: 1ynBIPr9X5J44EKHwZ7YonubxUtbOj4mGdpywEgH3kf8\n",
            "title: PFO PRESENTATION, id: 1PefrsjOmr5CUlj5s-NElcYdxaFDzxg3rHhg-XFOhggE\n",
            "title: Untitled form, id: 1A9BO6sOItWLEBhT-z6RDJa7iTRNB7vRpmAuvX1S9R10\n",
            "title: divya insurance twowheeler.pdf, id: 0B139lAmq78gnWHFQaWZDdXhKZ1k\n",
            "title: STATEMENT OF PURPOSE, id: 16HoPqxfnJl8TNiWJehO_sWuJtgs_Q34kVu4mm34zQH0\n",
            "title: divya_vatti(825014).docx, id: 13Zsr0bkQKKYTxySIaUaQbJe37r7n-gReg9fMmA8LYRk\n",
            "title: divya_vatti(825014).docx, id: 0B139lAmq78gnZlBPN0xvRGxyQldsMHpYdkQtT05MUUo5Njdj\n",
            "title: mahe, id: 0B139lAmq78gnZnh5TmphV3JWNGM\n",
            "title: 530180.pdf, id: 0B139lAmq78gnRm1waW5VUW5pQnc\n",
            "title: Finalized Telugu Stories.rar, id: 0B139lAmq78gncmhVMVlsVUlRQVNDOXVsQ0Zaa1ZlYUxETUJr\n",
            "title: IMG-20150911-WA0002.jpg, id: 0B139lAmq78gnMlpiYTg4R1NlUEc1ZTk5RjhmdWN3OXZBQW9v\n",
            "title: IMG_20150110_141814509.jpg, id: 0B139lAmq78gna2N2bktsdzZtZEU\n",
            "title: IMG_20150110_141834969.jpg, id: 0B139lAmq78gncnZJdERqZ2dDNGc\n",
            "title: IMG_20150110_141823480.jpg, id: 0B139lAmq78gnQnZydUZrNTVZTTA\n",
            "title: IMG_20150110_141902743.jpg, id: 0B139lAmq78gnMzg4b09EQWpJUm8\n",
            "title: IMG_20150110_141913943.jpg, id: 0B139lAmq78gnUUZZMDRBUkVNZGM\n",
            "title: IMG_20150110_141919652.jpg, id: 0B139lAmq78gnZy1UWlhpUlVndDg\n",
            "title: IMG_20150110_141935994.jpg, id: 0B139lAmq78gnT3dSa2tZY2VYVTA\n",
            "title: IMG_20150110_141949139.jpg, id: 0B139lAmq78gnOThuRS1vdnk3cms\n",
            "title: IMG_20150110_142028117.jpg, id: 0B139lAmq78gnMWdyVElhemZrU0k\n",
            "title: IMG_20150110_142017029.jpg, id: 0B139lAmq78gnNWhvalFRRUptQWc\n",
            "title: IMG_20150110_142219248.jpg, id: 0B139lAmq78gnNkNBd3drbXJGZ00\n",
            "title: IMG_20150110_142237860.jpg, id: 0B139lAmq78gnT1ZUV3BDMHNxVk0\n",
            "title: IMG_20150110_142038337.jpg, id: 0B139lAmq78gnQVIxbnZicUNuUG8\n",
            "title: IMG_20150110_142257875.jpg, id: 0B139lAmq78gnQzkzVEZhRklDNFk\n",
            "title: IMG_20150110_142332999.jpg, id: 0B139lAmq78gnYlduLWFxMFA2SHc\n",
            "title: IMG_20150110_142324429.jpg, id: 0B139lAmq78gneEdZMGJNWGZIUzg\n",
            "title: IMG_20150110_142350937.jpg, id: 0B139lAmq78gnaVJZSjJkZ1BJQTA\n",
            "title: IMG_20150110_142429436.jpg, id: 0B139lAmq78gnZlRqQzJsYklqTFE\n",
            "title: IMG_20150110_142542949.jpg, id: 0B139lAmq78gnMVNpSzRLa1o5ZDg\n",
            "title: IMG_20150110_143209650.jpg, id: 0B139lAmq78gnWWVZemJ3allfTzA\n",
            "title: IMG_20150110_142813359.jpg, id: 0B139lAmq78gncTd4Qm82QWxtMEE\n",
            "title: IMG_20150110_143038475.jpg, id: 0B139lAmq78gndVlTS3dsY2tjWm8\n",
            "title: IMG_20150110_143225698.jpg, id: 0B139lAmq78gnenA1NmgtS3JHQlE\n",
            "title: IMG_20150110_143230575.jpg, id: 0B139lAmq78gnQlpVRmxyUlFUdm8\n",
            "title: IMG_20150110_143302288.jpg, id: 0B139lAmq78gnZm82TTdNWGEtLUE\n",
            "title: IMG_20150110_143312346.jpg, id: 0B139lAmq78gneHlFRjNZdEEtdm8\n",
            "title: IMG_20150110_143317027.jpg, id: 0B139lAmq78gnOTRBX3MzZFdwSU0\n",
            "title: IMG_20150110_143420491.jpg, id: 0B139lAmq78gnSl9kc1c1dU9iNUk\n",
            "title: IMG_20150110_143435085.jpg, id: 0B139lAmq78gnU00xaEVyRWFSV0E\n",
            "title: IMG_20150110_143455898.jpg, id: 0B139lAmq78gnY0h4SWdxVWlkTlE\n",
            "title: IMG_20150110_143645459.jpg, id: 0B139lAmq78gnSW1LcTNkbmpLVEE\n",
            "title: IMG_20150110_143813474.jpg, id: 0B139lAmq78gnckFqaXBrM292QUU\n",
            "title: IMG_20150110_143815057.jpg, id: 0B139lAmq78gnT0tsem8wSTlId2s\n",
            "title: IMG_20150110_143819798.jpg, id: 0B139lAmq78gnMUlXTElkMTJ0Zkk\n",
            "title: IMG_20150110_143821835.jpg, id: 0B139lAmq78gnSFVSTjk0ZzJ1dW8\n",
            "title: IMG_20150110_143836160.jpg, id: 0B139lAmq78gndHNGeElqVVlGb3M\n",
            "title: IMG_20150110_143839838.jpg, id: 0B139lAmq78gnOUFlalM4X2h5SW8\n",
            "title: IMG_20150110_151009407.jpg, id: 0B139lAmq78gnaF80LXR4eFNSdnc\n",
            "title: IMG_20150110_151039997.jpg, id: 0B139lAmq78gnbTJfQWZGNVRpLVU\n",
            "title: IMG_20150110_151048281.jpg, id: 0B139lAmq78gnVER3blR3cmFaU2c\n",
            "title: IMG_20150110_151508287.jpg, id: 0B139lAmq78gnNlB5ZDhLSWl0U0k\n",
            "title: IMG_20150110_151659461_HDR.jpg, id: 0B139lAmq78gneVl6d25NNFFtOWs\n",
            "title: IMG_20150110_153756952.jpg, id: 0B139lAmq78gnRXBzUTZEc2pUS1U\n",
            "title: IMG_20150110_154304774_HDR.jpg, id: 0B139lAmq78gnZzItcFVOWVNQdTg\n",
            "title: IMG_20150110_154243690.jpg, id: 0B139lAmq78gnd0Y0Y2hadzJzV1k\n",
            "title: IMG_20150110_154947185.jpg, id: 0B139lAmq78gnNHh6YVdyUE1BQk0\n",
            "title: IMG_20150110_155005090.jpg, id: 0B139lAmq78gnSEM1X0RodnY3bXc\n",
            "title: IMG_20150110_154541528.jpg, id: 0B139lAmq78gncWZMb2tLT0tJYnM\n",
            "title: IMG_20150110_155031426.jpg, id: 0B139lAmq78gnZjg1Ukd5VFl6Qms\n",
            "title: IMG_20150110_155034261.jpg, id: 0B139lAmq78gnNk9jejhLLVBONFU\n",
            "title: IMG_20150110_155714860.jpg, id: 0B139lAmq78gnOEdHMk9TVVlwbjQ\n",
            "title: IMG_20150110_155722026.jpg, id: 0B139lAmq78gnR1I3ZWRGM3BoYmM\n",
            "title: IMG_20150110_155800683.jpg, id: 0B139lAmq78gnMmZWMmZ4MFlOZlk\n",
            "title: IMG_20150110_160302691.jpg, id: 0B139lAmq78gnQ0xRQ0pZdGlyQTg\n",
            "title: IMG_20150110_170353816_HDR.jpg, id: 0B139lAmq78gnVEo2LUdtaDJnZ3c\n",
            "title: IMG_20150110_170412806.jpg, id: 0B139lAmq78gnQm9KQVI2a1FERlE\n",
            "title: IMG_20150110_170931775_HDR.jpg, id: 0B139lAmq78gnSWUyLVJYZFd4SFU\n",
            "title: IMG_20150110_170551780.jpg, id: 0B139lAmq78gnUWNTVnJMUXlha00\n",
            "title: IMG_20150110_170854799.jpg, id: 0B139lAmq78gnMDFHSVNqQTZkeFE\n",
            "title: IMG_20150110_171100669_HDR.jpg, id: 0B139lAmq78gnTXFLUURpdUhkQjg\n",
            "title: IMG_20150110_170938226_HDR.jpg, id: 0B139lAmq78gnQnRVcmprck1VNmc\n",
            "title: IMG_20150110_171239734_HDR.jpg, id: 0B139lAmq78gnX0dWdDVad0ZmMEE\n",
            "title: IMG_20150110_171255624.jpg, id: 0B139lAmq78gnY0R5cmFiWW1Tcmc\n",
            "title: IMG_20150110_171458275_HDR.jpg, id: 0B139lAmq78gnVmxGZDJxRHp5TUk\n",
            "title: IMG_20150110_173949946_HDR.jpg, id: 0B139lAmq78gnb1pWWUtBaDRTLVE\n",
            "title: IMG_20150110_174053374_HDR.jpg, id: 0B139lAmq78gnOE9PVmx2WXpPaG8\n",
            "title: IMG_20150110_175034219_HDR.jpg, id: 0B139lAmq78gnSXBSLURBbWo0MlU\n",
            "title: IMG_20150110_175155473_HDR.jpg, id: 0B139lAmq78gnc2oyS1J6VmUxS2M\n",
            "title: IMG_20150110_175106512_HDR.jpg, id: 0B139lAmq78gnbHM3eVlCNEpCR0U\n",
            "title: IMG_20150110_175220582_HDR.jpg, id: 0B139lAmq78gnenQ5aVQweDBPd00\n",
            "title: IMG_20150110_175842306_HDR.jpg, id: 0B139lAmq78gnMm55Wi0zclQtWm8\n",
            "title: IMG_20150110_175450466_HDR.jpg, id: 0B139lAmq78gnQ2hudVRkRTFyTjA\n",
            "title: IMG_20150110_175848304_HDR.jpg, id: 0B139lAmq78gnazF1NUdKd1BmZm8\n",
            "title: IMG_20150110_180339065_HDR.jpg, id: 0B139lAmq78gnLWYwelIwZE9pS1E\n",
            "title: IMG_20150110_180359717_HDR.jpg, id: 0B139lAmq78gnVm4wZ2s3aTlkb1U\n",
            "title: IMG_20150110_180419318_HDR.jpg, id: 0B139lAmq78gnZTJTS20zWndoQUE\n",
            "title: IMG_20150110_180538326_HDR.jpg, id: 0B139lAmq78gnTzN5dnRJUlZoLVE\n",
            "title: IMG_20150110_180546387.jpg, id: 0B139lAmq78gnd2JiQTNqTURWT3M\n",
            "title: IMG_20150110_180557017.jpg, id: 0B139lAmq78gnVzRsLUlvdjBnbnM\n",
            "title: IMG_20150110_180701322_HDR.jpg, id: 0B139lAmq78gncjJhSFdiYVh5aUE\n",
            "title: IMG_20150110_180721054_HDR.jpg, id: 0B139lAmq78gnSXhIMTBkOU9TUUU\n",
            "title: IMG_20150110_180748816_HDR.jpg, id: 0B139lAmq78gneHo0eHFTODNnejQ\n",
            "title: IMG_20150110_180805775_HDR.jpg, id: 0B139lAmq78gndDZrYjNNNmIxNkE\n",
            "title: IMG_20150110_180812910_HDR.jpg, id: 0B139lAmq78gnb1pxc2NYb2laMjA\n",
            "title: IMG_20150110_180829242_HDR.jpg, id: 0B139lAmq78gnYzg0MTNaRVB2NVU\n",
            "title: IMG_20150110_180909019_HDR.jpg, id: 0B139lAmq78gnNjE3VG1nT00zRU0\n",
            "title: IMG_20150110_180920861_HDR.jpg, id: 0B139lAmq78gnWklHb29MOUdFVE0\n",
            "title: IMG_20150110_180927976_HDR.jpg, id: 0B139lAmq78gnalJYS2FFWnBYRU0\n",
            "title: IMG_20150110_181001521_HDR.jpg, id: 0B139lAmq78gnSHVYY0Y5NjY1ZlU\n",
            "title: IMG_20150110_181008530_HDR.jpg, id: 0B139lAmq78gnNjJ5Si16dUFObWM\n",
            "title: IMG_20150314_145208609.jpg, id: 0B139lAmq78gnMGZNVUcwdmM1V0U\n",
            "title: IMG_20150209_102146.jpg, id: 0B139lAmq78gnODFTNjNkVHVxSWs\n",
            "title: IMG_20150329_200748668_HDR.jpg, id: 0B139lAmq78gnOFJlRGxYc1lLdW8\n",
            "title: IMG_20150209_102125142.jpg, id: 0B139lAmq78gnMnRtQzVrLUUtWUk\n",
            "title: IMG_20150308_163735204.jpg, id: 0B139lAmq78gnN1g3dzRBai1nSlk\n",
            "title: IMG_20150401_125657940.jpg, id: 0B139lAmq78gnSVlKXzQ3MzBxNWM\n",
            "title: IMG_20150209_102221.jpg, id: 0B139lAmq78gnUDZ4eU1CeTBRclE\n",
            "title: IMG_20150209_101914.jpg, id: 0B139lAmq78gnZHFuNDh4OEVvVG8\n",
            "title: IMG_20150209_102030.jpg, id: 0B139lAmq78gnVjdzc195SDd3ejA\n",
            "title: IMG_20150209_102227399.jpg, id: 0B139lAmq78gnR0l2eVFlQWhLOWs\n",
            "title: IMG_20150314_145206218.jpg, id: 0B139lAmq78gnOExKY3RDR2dpRXM\n",
            "title: IMG_20150209_102209366.jpg, id: 0B139lAmq78gndlpqRE1vdDd1M2c\n",
            "title: IMG_20150209_102020930.jpg, id: 0B139lAmq78gnMllvZzlldkhvck0\n",
            "title: IMG_20150314_145157290.jpg, id: 0B139lAmq78gnam94QmViYmNjWFU\n",
            "title: IMG_20150329_200745150_HDR.jpg, id: 0B139lAmq78gnTnBMOHY4NFhqd0k\n",
            "title: pregnancytest.docx, id: 0B139lAmq78gnb0ctbUtZWkhzYzQ\n",
            "title: pregnancytest, id: 0B139lAmq78gnc2ppejlrRVlGOEk\n",
            "title: images (1).jpg, id: 0B139lAmq78gnQkMyZDV0dU01bVVGQUVIWnl6ZHpRa1RPODU0\n",
            "title: TCS_Offer_CT20100228351.pdf, id: 0B139lAmq78gnWXhDQ3JYM0ZFdTA\n",
            "title: CT20100228351-joningletter2.pdf, id: 0B139lAmq78gna21vd3lTOFRNWEU\n",
            "title: Citibank Account Statement-20141101 TO 20141201.pdf, id: 0B139lAmq78gnN3dteDh5QXBSVzI2cmlLdmwzclVhamd5Z2M4\n",
            "title: CITIBANK REWARDS PLATINUM CARD.pdf, id: 0B139lAmq78gnMzFpbG9fS2Y1R3ZoWWFVcUMyTHNiVUpNbGxR\n",
            "title: Citibank Account Statement-20141101 TO 20141117.pdf, id: 0B139lAmq78gnSVdkb2F5NDU1SjFJWWl1SjVNZlYzREYtblpV\n",
            "title: Savings_Stmt_17111421381.xls, id: 0B139lAmq78gnbjE5OVpFbVlsTWhOVVVuNDN2YnN0eE1MVThV\n",
            "title: medbillvenkat.pdf, id: 0B139lAmq78gnQXp1d1JlQlhJbnc\n",
            "title: div resum.pdf, id: 0B139lAmq78gnV2hMQjVOdV9ldkVGUGRSSFhhOFFpSGhQRi1F\n"
          ],
          "name": "stdout"
        }
      ]
    },
    {
      "cell_type": "code",
      "metadata": {
        "id": "zgGrKUsagTzN",
        "colab_type": "code",
        "colab": {}
      },
      "source": [
        "downloaded = drive.CreateFile({'id': '1UuFu2iM81r-zCTELWKcT4zY2QRTpijCo'})\n",
        "downloaded.GetContentFile('glove6b100dtxt.zip')"
      ],
      "execution_count": 0,
      "outputs": []
    },
    {
      "cell_type": "code",
      "metadata": {
        "id": "0ZnszVYCgYcw",
        "colab_type": "code",
        "outputId": "6a644bcb-edf1-4bf6-83a9-21f22c7ab161",
        "colab": {
          "base_uri": "https://localhost:8080/",
          "height": 51
        }
      },
      "source": [
        "!unzip glove6b100dtxt.zip"
      ],
      "execution_count": 0,
      "outputs": [
        {
          "output_type": "stream",
          "text": [
            "Archive:  glove6b100dtxt.zip\n",
            "  inflating: glove.6B.100d.txt       \n"
          ],
          "name": "stdout"
        }
      ]
    },
    {
      "cell_type": "code",
      "metadata": {
        "id": "G97NcP7BgbbW",
        "colab_type": "code",
        "colab": {}
      },
      "source": [
        "from __future__ import print_function\n",
        "\n",
        "import os\n",
        "import sys\n",
        "import numpy as np\n",
        "from keras.preprocessing.text import Tokenizer\n",
        "from keras.preprocessing.sequence import pad_sequences\n",
        "from keras.utils import to_categorical\n",
        "from keras.layers import Dense, Input, GlobalMaxPooling1D\n",
        "from keras.layers import Conv1D, MaxPooling1D, Embedding\n",
        "from keras.models import Model\n",
        "from keras.initializers import Constant\n",
        "from keras.layers import Conv2D\n",
        "from keras.layers import MaxPooling2D\n",
        "\n",
        " \n",
        "BASE_DIR = ''\n",
        "GLOVE_DIR = os.path.join(BASE_DIR, 'glove.6B')"
      ],
      "execution_count": 0,
      "outputs": []
    },
    {
      "cell_type": "code",
      "metadata": {
        "id": "0B-er7RQgfNJ",
        "colab_type": "code",
        "outputId": "dcbdaac6-86ca-4942-c049-ab78e3292d27",
        "colab": {
          "base_uri": "https://localhost:8080/",
          "height": 34
        }
      },
      "source": [
        "embeddings_index = {}\n",
        "f = open('glove.6B.100d.txt',encoding='utf-8')\n",
        "for line in f:\n",
        "    values = line.split()\n",
        "    word = values[0]\n",
        "    coefs = np.asarray(values[1:], dtype='float32')\n",
        "    embeddings_index[word] = coefs\n",
        "f.close()\n",
        "\n",
        "print('Found %s word vectors.' % len(embeddings_index))"
      ],
      "execution_count": 0,
      "outputs": [
        {
          "output_type": "stream",
          "text": [
            "Found 400000 word vectors.\n"
          ],
          "name": "stdout"
        }
      ]
    },
    {
      "cell_type": "code",
      "metadata": {
        "id": "Ev5yBnbygxfp",
        "colab_type": "code",
        "outputId": "7af5b4e9-1204-4d70-a4ac-9763f5a3c1b8",
        "colab": {
          "base_uri": "https://localhost:8080/",
          "height": 34
        }
      },
      "source": [
        "word_index=tok.word_index\n",
        "len(word_index)"
      ],
      "execution_count": 0,
      "outputs": [
        {
          "output_type": "execute_result",
          "data": {
            "text/plain": [
              "196220"
            ]
          },
          "metadata": {
            "tags": []
          },
          "execution_count": 36
        }
      ]
    },
    {
      "cell_type": "code",
      "metadata": {
        "id": "loHTyCvPg2UJ",
        "colab_type": "code",
        "colab": {}
      },
      "source": [
        "embedding_matrix = np.zeros((len(word_index)+1,100))\n",
        "for word, i in word_index.items():\n",
        "    embedding_vector = embeddings_index.get(word)\n",
        "    if embedding_vector is not None:\n",
        "        # words not found in embedding index will be all-zeros.\n",
        "        embedding_matrix[i] = embedding_vector"
      ],
      "execution_count": 0,
      "outputs": []
    },
    {
      "cell_type": "code",
      "metadata": {
        "id": "EjXsGLjMg_dK",
        "colab_type": "code",
        "outputId": "afc2ed8a-50a2-4768-a911-34eca4d6c9f5",
        "colab": {
          "base_uri": "https://localhost:8080/",
          "height": 238
        }
      },
      "source": [
        "embedding_matrix"
      ],
      "execution_count": 0,
      "outputs": [
        {
          "output_type": "execute_result",
          "data": {
            "text/plain": [
              "array([[ 0.        ,  0.        ,  0.        , ...,  0.        ,\n",
              "         0.        ,  0.        ],\n",
              "       [-0.038194  , -0.24487001,  0.72812003, ..., -0.1459    ,\n",
              "         0.82779998,  0.27061999],\n",
              "       [-0.15180001,  0.38409001,  0.89340001, ..., -0.27123001,\n",
              "         0.22157   ,  0.92111999],\n",
              "       ...,\n",
              "       [ 0.        ,  0.        ,  0.        , ...,  0.        ,\n",
              "         0.        ,  0.        ],\n",
              "       [-0.067863  , -0.26969001, -0.36182001, ...,  0.16723999,\n",
              "        -0.08863   ,  0.17496   ],\n",
              "       [ 0.046097  ,  0.45210001,  0.1778    , ...,  0.10402   ,\n",
              "         0.029458  ,  0.52072001]])"
            ]
          },
          "metadata": {
            "tags": []
          },
          "execution_count": 38
        }
      ]
    },
    {
      "cell_type": "code",
      "metadata": {
        "id": "yd7YrmEThBw7",
        "colab_type": "code",
        "colab": {}
      },
      "source": [
        "\n",
        "tok = Tokenizer(char_level=False,split=' ')\n",
        "tok.fit_on_texts(x_test)\n",
        "sequences_test = tok.texts_to_sequences(x_test)"
      ],
      "execution_count": 0,
      "outputs": []
    },
    {
      "cell_type": "code",
      "metadata": {
        "id": "1rkGy6a4xlxb",
        "colab_type": "code",
        "colab": {}
      },
      "source": [
        "#sequences_test"
      ],
      "execution_count": 0,
      "outputs": []
    },
    {
      "cell_type": "code",
      "metadata": {
        "id": "Q5vUJgk9hISA",
        "colab_type": "code",
        "colab": {}
      },
      "source": [
        "sequences_matrix_test = sequence.pad_sequences(sequences_test,maxlen=max_quant_len)"
      ],
      "execution_count": 0,
      "outputs": []
    },
    {
      "cell_type": "code",
      "metadata": {
        "id": "mJ5k4qbm1ztv",
        "colab_type": "code",
        "outputId": "92892913-20d1-4e49-b6a5-7d1502466b60",
        "colab": {
          "base_uri": "https://localhost:8080/",
          "height": 136
        }
      },
      "source": [
        "sequences_matrix_test"
      ],
      "execution_count": 0,
      "outputs": [
        {
          "output_type": "execute_result",
          "data": {
            "text/plain": [
              "array([[   0,    0,    0, ...,   61,   94, 4200],\n",
              "       [   0,    0,    0, ...,  118,   28,  142],\n",
              "       [   0,    0,    0, ...,    3,   64,  888],\n",
              "       ...,\n",
              "       [   0,    0,    0, ...,  215, 5927, 6025],\n",
              "       [   0,    0,    0, ...,  395,  128, 1193],\n",
              "       [ 124,  114,    1, ..., 3896, 7377, 1418]], dtype=int32)"
            ]
          },
          "metadata": {
            "tags": []
          },
          "execution_count": 42
        }
      ]
    },
    {
      "cell_type": "code",
      "metadata": {
        "id": "AsRRBkrBhTK2",
        "colab_type": "code",
        "colab": {}
      },
      "source": [
        "x_train=sequence.pad_sequences(sequences_train,maxlen=max_quant_len)"
      ],
      "execution_count": 0,
      "outputs": []
    },
    {
      "cell_type": "code",
      "metadata": {
        "id": "JdwUyZ6ahgSN",
        "colab_type": "code",
        "colab": {}
      },
      "source": [
        "x_test=sequence.pad_sequences(sequences_test,maxlen=max_quant_len)"
      ],
      "execution_count": 0,
      "outputs": []
    },
    {
      "cell_type": "code",
      "metadata": {
        "id": "q_LXMskdhic7",
        "colab_type": "code",
        "colab": {}
      },
      "source": [
        "from keras.layers import Embedding"
      ],
      "execution_count": 0,
      "outputs": []
    },
    {
      "cell_type": "code",
      "metadata": {
        "id": "92w5_S6Oh1Hw",
        "colab_type": "code",
        "colab": {}
      },
      "source": [
        "from keras.layers import LSTM, Activation, Dense, Dropout, Input, Embedding"
      ],
      "execution_count": 0,
      "outputs": []
    },
    {
      "cell_type": "code",
      "metadata": {
        "id": "2U7cqxdwo-cK",
        "colab_type": "code",
        "colab": {}
      },
      "source": [
        "def RNN():\n",
        "    inputs = Input(name='inputs',shape=[max_len], dtype='float32')\n",
        "    layer = Embedding(len(word_index)+1,100,input_length=max_len,weights=[embedding_matrix],mask_zero=True,trainable=False)(inputs)\n",
        "    layer = LSTM(64)(layer)\n",
        "    layer = Dense(256,name='FC1')(layer)\n",
        "    layer = Activation('relu')(layer)\n",
        "    layer = Dropout(0.5)(layer)\n",
        "\n",
        "    layer = Dense(128,name='FC2')(layer)\n",
        "    layer = Activation('tanh')(layer)\n",
        "    layer = Dropout(0.5)(layer)\n",
        "\n",
        "    layer = Dense(256,name='FC3')(layer)\n",
        "    layer = Activation('tanh')(layer)\n",
        "    layer = Dropout(0.5)(layer)\n",
        "    #layer=BatchNormalization()(layer)\n",
        "    \n",
        "    layer = Dense(1,name='out_layer')(layer)\n",
        "    layer = Activation('sigmoid')(layer)\n",
        "    model = Model(inputs=inputs,outputs=layer)\n",
        "    return model"
      ],
      "execution_count": 0,
      "outputs": []
    },
    {
      "cell_type": "code",
      "metadata": {
        "id": "4Ro9Nn0LeF7l",
        "colab_type": "code",
        "outputId": "bcb69ed6-83b9-4a86-e5ae-a946f6579d3e",
        "colab": {
          "base_uri": "https://localhost:8080/",
          "height": 629
        }
      },
      "source": [
        "model = RNN()\n",
        "model.summary()\n",
        "model.compile(loss='binary_crossentropy',optimizer='adam',\n",
        "              metrics=['accuracy'])"
      ],
      "execution_count": 0,
      "outputs": [
        {
          "output_type": "stream",
          "text": [
            "Model: \"model_3\"\n",
            "_________________________________________________________________\n",
            "Layer (type)                 Output Shape              Param #   \n",
            "=================================================================\n",
            "inputs (InputLayer)          (None, 30.0)              0         \n",
            "_________________________________________________________________\n",
            "embedding_3 (Embedding)      (None, 30.0, 100)         19622100  \n",
            "_________________________________________________________________\n",
            "lstm_3 (LSTM)                (None, 64)                42240     \n",
            "_________________________________________________________________\n",
            "FC1 (Dense)                  (None, 256)               16640     \n",
            "_________________________________________________________________\n",
            "activation_6 (Activation)    (None, 256)               0         \n",
            "_________________________________________________________________\n",
            "dropout_4 (Dropout)          (None, 256)               0         \n",
            "_________________________________________________________________\n",
            "FC2 (Dense)                  (None, 128)               32896     \n",
            "_________________________________________________________________\n",
            "activation_7 (Activation)    (None, 128)               0         \n",
            "_________________________________________________________________\n",
            "dropout_5 (Dropout)          (None, 128)               0         \n",
            "_________________________________________________________________\n",
            "FC3 (Dense)                  (None, 256)               33024     \n",
            "_________________________________________________________________\n",
            "activation_8 (Activation)    (None, 256)               0         \n",
            "_________________________________________________________________\n",
            "dropout_6 (Dropout)          (None, 256)               0         \n",
            "_________________________________________________________________\n",
            "out_layer (Dense)            (None, 1)                 257       \n",
            "_________________________________________________________________\n",
            "activation_9 (Activation)    (None, 1)                 0         \n",
            "=================================================================\n",
            "Total params: 19,747,157\n",
            "Trainable params: 125,057\n",
            "Non-trainable params: 19,622,100\n",
            "_________________________________________________________________\n"
          ],
          "name": "stdout"
        }
      ]
    },
    {
      "cell_type": "code",
      "metadata": {
        "id": "z4mLXJpK3cjZ",
        "colab_type": "code",
        "outputId": "54f927ba-8a62-41ba-c769-4d411dab150d",
        "colab": {
          "base_uri": "https://localhost:8080/",
          "height": 561
        }
      },
      "source": [
        "model.fit(x_train, y_train,\n",
        "          batch_size=10000,\n",
        "          epochs=15,\n",
        "          validation_data=(x_test, y_test))"
      ],
      "execution_count": 0,
      "outputs": [
        {
          "output_type": "stream",
          "text": [
            "Train on 1044897 samples, validate on 261225 samples\n",
            "Epoch 1/15\n",
            "1044897/1044897 [==============================] - 372s 356us/step - loss: 0.1184 - acc: 0.9535 - val_loss: 0.2684 - val_acc: 0.9348\n",
            "Epoch 2/15\n",
            "1044897/1044897 [==============================] - 368s 352us/step - loss: 0.1165 - acc: 0.9542 - val_loss: 0.2487 - val_acc: 0.9288\n",
            "Epoch 3/15\n",
            "1044897/1044897 [==============================] - 364s 348us/step - loss: 0.1150 - acc: 0.9549 - val_loss: 0.2491 - val_acc: 0.9323\n",
            "Epoch 4/15\n",
            "1044897/1044897 [==============================] - 364s 348us/step - loss: 0.1134 - acc: 0.9554 - val_loss: 0.2578 - val_acc: 0.9322\n",
            "Epoch 5/15\n",
            "1044897/1044897 [==============================] - 362s 347us/step - loss: 0.1118 - acc: 0.9559 - val_loss: 0.2552 - val_acc: 0.9288\n",
            "Epoch 6/15\n",
            "1044897/1044897 [==============================] - 364s 348us/step - loss: 0.1110 - acc: 0.9562 - val_loss: 0.2709 - val_acc: 0.9336\n",
            "Epoch 7/15\n",
            "1044897/1044897 [==============================] - 365s 349us/step - loss: 0.1101 - acc: 0.9565 - val_loss: 0.2602 - val_acc: 0.9277\n",
            "Epoch 8/15\n",
            "1044897/1044897 [==============================] - 365s 349us/step - loss: 0.1088 - acc: 0.9570 - val_loss: 0.2631 - val_acc: 0.9286\n",
            "Epoch 9/15\n",
            "1044897/1044897 [==============================] - 366s 351us/step - loss: 0.1078 - acc: 0.9574 - val_loss: 0.2588 - val_acc: 0.9232\n",
            "Epoch 10/15\n",
            "1044897/1044897 [==============================] - 362s 347us/step - loss: 0.1073 - acc: 0.9575 - val_loss: 0.2600 - val_acc: 0.9290\n",
            "Epoch 11/15\n",
            "1044897/1044897 [==============================] - 362s 346us/step - loss: 0.1062 - acc: 0.9580 - val_loss: 0.2647 - val_acc: 0.9267\n",
            "Epoch 12/15\n",
            "1044897/1044897 [==============================] - 363s 348us/step - loss: 0.1054 - acc: 0.9583 - val_loss: 0.2669 - val_acc: 0.9260\n",
            "Epoch 13/15\n",
            "1044897/1044897 [==============================] - 364s 348us/step - loss: 0.1051 - acc: 0.9583 - val_loss: 0.2624 - val_acc: 0.9255\n",
            "Epoch 14/15\n",
            "1044897/1044897 [==============================] - 364s 348us/step - loss: 0.1041 - acc: 0.9587 - val_loss: 0.2688 - val_acc: 0.9276\n",
            "Epoch 15/15\n",
            "1044897/1044897 [==============================] - 365s 350us/step - loss: 0.1032 - acc: 0.9589 - val_loss: 0.2783 - val_acc: 0.9291\n"
          ],
          "name": "stdout"
        },
        {
          "output_type": "execute_result",
          "data": {
            "text/plain": [
              "<keras.callbacks.History at 0x7f14e66d89e8>"
            ]
          },
          "metadata": {
            "tags": []
          },
          "execution_count": 62
        }
      ]
    },
    {
      "cell_type": "code",
      "metadata": {
        "id": "DAf5dU3Z5GDP",
        "colab_type": "code",
        "colab": {}
      },
      "source": [
        "predictions=model.predict(sequences_matrix_test)"
      ],
      "execution_count": 0,
      "outputs": []
    },
    {
      "cell_type": "code",
      "metadata": {
        "id": "rsE0ZwL9eQJP",
        "colab_type": "code",
        "outputId": "6c03cfb8-8803-450f-8b09-c17ca35f965f",
        "colab": {
          "base_uri": "https://localhost:8080/",
          "height": 34
        }
      },
      "source": [
        "from sklearn.metrics import roc_auc_score\n",
        "roc_auc_score(y_test,predictions)"
      ],
      "execution_count": 0,
      "outputs": [
        {
          "output_type": "execute_result",
          "data": {
            "text/plain": [
              "0.7182648653158381"
            ]
          },
          "metadata": {
            "tags": []
          },
          "execution_count": 64
        }
      ]
    },
    {
      "cell_type": "code",
      "metadata": {
        "id": "YGPXDca0eaXM",
        "colab_type": "code",
        "colab": {}
      },
      "source": [
        "#Obseravations:\n",
        "#when epochs=10000 roc_auc_score is 0.7173321158355012 but the model is overfitting (val_acc<acc)\n",
        "#when only 1 dense layer and a dropout layer is used roc_auc_score 0.7292734137923427 \n",
        "#when 3 dense layers and a dropout layer is used roc_auc_score 0.7271602252073571\n",
        "#as the loss is decreasing it implies the model is learning so i increased no of epochs to 15 but val_loss increased "
      ],
      "execution_count": 0,
      "outputs": []
    },
    {
      "cell_type": "code",
      "metadata": {
        "id": "nH0caauteWbw",
        "colab_type": "code",
        "colab": {}
      },
      "source": [
        ""
      ],
      "execution_count": 0,
      "outputs": []
    }
  ]
}